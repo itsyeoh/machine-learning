{
 "cells": [
  {
   "cell_type": "markdown",
   "metadata": {},
   "source": [
    "# CS 584 HW1\n",
    "Jason Yeoh (A20457826 / jyeoh1 at hawk.iit.edu)"
   ]
  },
  {
   "cell_type": "code",
   "execution_count": 1,
   "metadata": {},
   "outputs": [],
   "source": [
    "#Import libraries\n",
    "import numpy as np\n",
    "import pandas as pd\n",
    "import seaborn as sns\n",
    "import matplotlib.pyplot as plt\n",
    "import math\n",
    "from scipy import stats\n",
    "from numpy import linalg as LA\n",
    "from sklearn.neighbors import NearestNeighbors as kNN\n",
    "from sklearn.neighbors import KNeighborsClassifier\n",
    "from sklearn.model_selection import train_test_split"
   ]
  },
  {
   "cell_type": "markdown",
   "metadata": {},
   "source": [
    "## Question 1: KDE"
   ]
  },
  {
   "cell_type": "code",
   "execution_count": 2,
   "metadata": {},
   "outputs": [
    {
     "name": "stdout",
     "output_type": "stream",
     "text": [
      "Min: 26.3 \n",
      "Max: 35.4\n"
     ]
    }
   ],
   "source": [
    "# 1-a.\n",
    "sample = pd.read_csv('NormalSample.csv')\n",
    "\n",
    "a = sample.min()['x']\n",
    "b = sample.max()['x']\n",
    "print('Min:', a, '\\nMax:', b)"
   ]
  },
  {
   "cell_type": "code",
   "execution_count": 3,
   "metadata": {},
   "outputs": [
    {
     "data": {
      "text/html": [
       "<div>\n",
       "<style scoped>\n",
       "    .dataframe tbody tr th:only-of-type {\n",
       "        vertical-align: middle;\n",
       "    }\n",
       "\n",
       "    .dataframe tbody tr th {\n",
       "        vertical-align: top;\n",
       "    }\n",
       "\n",
       "    .dataframe thead th {\n",
       "        text-align: right;\n",
       "    }\n",
       "</style>\n",
       "<table border=\"1\" class=\"dataframe\">\n",
       "  <thead>\n",
       "    <tr style=\"text-align: right;\">\n",
       "      <th></th>\n",
       "      <th>i</th>\n",
       "      <th>group</th>\n",
       "      <th>x</th>\n",
       "    </tr>\n",
       "  </thead>\n",
       "  <tbody>\n",
       "    <tr>\n",
       "      <td>0</td>\n",
       "      <td>0</td>\n",
       "      <td>1</td>\n",
       "      <td>29.8</td>\n",
       "    </tr>\n",
       "    <tr>\n",
       "      <td>1</td>\n",
       "      <td>1</td>\n",
       "      <td>1</td>\n",
       "      <td>33.3</td>\n",
       "    </tr>\n",
       "    <tr>\n",
       "      <td>2</td>\n",
       "      <td>2</td>\n",
       "      <td>0</td>\n",
       "      <td>30.9</td>\n",
       "    </tr>\n",
       "    <tr>\n",
       "      <td>3</td>\n",
       "      <td>3</td>\n",
       "      <td>1</td>\n",
       "      <td>32.2</td>\n",
       "    </tr>\n",
       "    <tr>\n",
       "      <td>4</td>\n",
       "      <td>4</td>\n",
       "      <td>0</td>\n",
       "      <td>31.1</td>\n",
       "    </tr>\n",
       "  </tbody>\n",
       "</table>\n",
       "</div>"
      ],
      "text/plain": [
       "   i  group     x\n",
       "0  0      1  29.8\n",
       "1  1      1  33.3\n",
       "2  2      0  30.9\n",
       "3  3      1  32.2\n",
       "4  4      0  31.1"
      ]
     },
     "execution_count": 3,
     "metadata": {},
     "output_type": "execute_result"
    }
   ],
   "source": [
    "sample.head()"
   ]
  },
  {
   "cell_type": "code",
   "execution_count": 4,
   "metadata": {
    "scrolled": true
   },
   "outputs": [
    {
     "name": "stdout",
     "output_type": "stream",
     "text": [
      "a= 26 b= 36\n"
     ]
    }
   ],
   "source": [
    "# 1.c \n",
    "a = math.floor(a)\n",
    "b = math.ceil(b)\n",
    "print('a=', a, 'b=', b)"
   ]
  },
  {
   "cell_type": "code",
   "execution_count": 6,
   "metadata": {},
   "outputs": [
    {
     "data": {
      "image/png": "[encoded data removed]",
      "text/plain": [
       "<Figure size 720x288 with 2 Axes>"
      ]
     },
     "metadata": {
      "needs_background": "light"
     },
     "output_type": "display_data"
    }
   ],
   "source": [
    "def Q1DEFG(h):\n",
    "    numBins = int((b-a)/h)\n",
    "    length = len(sample)\n",
    "    \n",
    "    fig, axs = plt.subplots(ncols=2, figsize=(10,4))\n",
    "    sns.distplot(sample['x'], bins=[a+(h*i) for i in range(int((b-a)/h) + 1)], kde=False, rug=False, ax=axs[0])\n",
    "    sns.distplot(sample['x'], bins=[a+(h*i) for i in range(int((b-a)/h) + 1)], kde=True, rug=False, ax=axs[1])\n",
    "    axs[0].set(xlabel='x', ylabel='count', title='Histogram (h=%.2f)'%h)\n",
    "    axs[1].set(xlabel='x', ylabel='density', title='Histogram with Density Estimator (h=%.2f)'%h)\n",
    "    plt.tight_layout()\n",
    "    plt.show()\n",
    "    \n",
    "    \n",
    "Q1DEFG(4)"
   ]
  },
  {
   "cell_type": "code",
   "execution_count": 385,
   "metadata": {},
   "outputs": [
    {
     "name": "stdout",
     "output_type": "stream",
     "text": [
      "(26.125, 0.000)\n",
      "(26.375, 0.004)\n",
      "(26.625, 0.000)\n",
      "(26.875, 0.000)\n",
      "(27.125, 0.004)\n",
      "(27.375, 0.000)\n",
      "(27.625, 0.008)\n",
      "(27.875, 0.016)\n",
      "(28.125, 0.024)\n",
      "(28.375, 0.036)\n",
      "(28.625, 0.036)\n",
      "(28.875, 0.072)\n",
      "(29.125, 0.060)\n",
      "(29.375, 0.148)\n",
      "(29.625, 0.112)\n",
      "(29.875, 0.188)\n",
      "(30.125, 0.148)\n",
      "(30.375, 0.268)\n",
      "(30.625, 0.184)\n",
      "(30.875, 0.228)\n",
      "(31.125, 0.176)\n",
      "(31.375, 0.332)\n",
      "(31.625, 0.240)\n",
      "(31.875, 0.324)\n",
      "(32.125, 0.228)\n",
      "(32.375, 0.284)\n",
      "(32.625, 0.212)\n",
      "(32.875, 0.228)\n",
      "(33.125, 0.108)\n",
      "(33.375, 0.132)\n",
      "(33.625, 0.052)\n",
      "(33.875, 0.064)\n",
      "(34.125, 0.036)\n",
      "(34.375, 0.024)\n",
      "(34.625, 0.012)\n",
      "(34.875, 0.008)\n",
      "(35.125, 0.000)\n",
      "(35.375, 0.008)\n",
      "(35.625, 0.000)\n",
      "(35.875, 0.000)\n",
      "(36.125, 0.000)\n",
      "(26.250, 0.002)\n",
      "(26.750, 0.000)\n",
      "(27.250, 0.002)\n",
      "(27.750, 0.012)\n",
      "(28.250, 0.030)\n",
      "(28.750, 0.054)\n",
      "(29.250, 0.104)\n",
      "(29.750, 0.150)\n",
      "(30.250, 0.208)\n",
      "(30.750, 0.206)\n",
      "(31.250, 0.254)\n",
      "(31.750, 0.282)\n",
      "(32.250, 0.256)\n",
      "(32.750, 0.220)\n",
      "(33.250, 0.120)\n",
      "(33.750, 0.058)\n",
      "(34.250, 0.030)\n",
      "(34.750, 0.010)\n",
      "(35.250, 0.004)\n",
      "(35.750, 0.000)\n",
      "(36.250, 0.000)\n",
      "(26.500, 0.001)\n",
      "(27.500, 0.007)\n",
      "(28.500, 0.042)\n",
      "(29.500, 0.127)\n",
      "(30.500, 0.207)\n",
      "(31.500, 0.268)\n",
      "(32.500, 0.238)\n",
      "(33.500, 0.089)\n",
      "(34.500, 0.020)\n",
      "(35.500, 0.002)\n",
      "(36.500, 0.000)\n",
      "(27.000, 0.004)\n",
      "(29.000, 0.084)\n",
      "(31.000, 0.237)\n",
      "(33.000, 0.163)\n",
      "(35.000, 0.011)\n",
      "(37.000, 0.000)\n"
     ]
    }
   ],
   "source": [
    "w = lambda u: 1 if -1/2 < u <= 1/2 else 0\n",
    "\n",
    "def p(m):\n",
    "    fn = lambda xj, mi, h: w((xj-mi)/h)\n",
    "    N = sample.shape[0]\n",
    "    return sum([fn(sample.iloc[i]['x'], m, h) for i in range(N)])/(N*h)\n",
    "\n",
    "\n",
    "\n",
    "for h in [0.25, 0.5, 1, 2]: \n",
    "    for i in range(int((b-a)/h) + 1):\n",
    "        x = a + (i + .5)*h\n",
    "        print('(%.3f, %.3f)'%(x, p(x)))"
   ]
  },
  {
   "cell_type": "code",
   "execution_count": null,
   "metadata": {},
   "outputs": [],
   "source": [
    "Q1DEFG(0.25)"
   ]
  },
  {
   "cell_type": "code",
   "execution_count": 248,
   "metadata": {},
   "outputs": [
    {
     "data": {
      "text/plain": [
       "40.01332889135637"
      ]
     },
     "execution_count": 248,
     "metadata": {},
     "output_type": "execute_result"
    }
   ],
   "source": [
    "n = len(sample)\n",
    "\n",
    "2*iqr/math.pow(n, -1/3)"
   ]
  },
  {
   "cell_type": "markdown",
   "metadata": {},
   "source": [
    "## Question 2: Box plots"
   ]
  },
  {
   "cell_type": "code",
   "execution_count": 65,
   "metadata": {},
   "outputs": [
    {
     "name": "stdout",
     "output_type": "stream",
     "text": [
      "Min:  26.3\n",
      "Q1:   30.4\n",
      "Med:  31.5\n",
      "Q3:   32.4\n",
      "Max:  35.4\n",
      "=============\n",
      "IQR:  2.0\n",
      "1.5*IQR Range: [ 27.4 - 35.4 ]\n"
     ]
    }
   ],
   "source": [
    "# 2.a: What is the five-number summary of x?  What are the values of the 1.5 IQR whiskers?\n",
    "_, _, _, min, q1, median, q3, max = sample.describe()['x']\n",
    "\n",
    "iqr = q3-q1\n",
    "iqr_low = q1 - 1.5*iqr\n",
    "iqr_high = q3 + 1.5*iqr\n",
    "\n",
    "print('Min: ', min)\n",
    "print('Q1:  ', q1)\n",
    "print('Med: ', median)\n",
    "print('Q3:  ', q3)\n",
    "print('Max: ', max)\n",
    "print('=============')\n",
    "print('IQR: ', iqr)\n",
    "print('1.5*IQR Range: [', iqr_low, '-', iqr_high, ']')"
   ]
  },
  {
   "cell_type": "code",
   "execution_count": 66,
   "metadata": {},
   "outputs": [
    {
     "name": "stdout",
     "output_type": "stream",
     "text": [
      "       count       mean       std   min   25%   50%   75%   max\n",
      "group                                                          \n",
      "0      315.0  30.004127  0.973935  26.3  29.4  30.0  30.6  32.2\n",
      "1      686.0  32.062245  1.040236  29.1  31.4  32.1  32.7  35.4 \n",
      "\n",
      "[Group 0]\n",
      "IQR: 1.200\n",
      "1.5*IQR Range: [27.600 - 32.400]\n",
      "\n",
      "[Group 1]\n",
      "IQR: 1.300\n",
      "1.5*IQR Range: [29.450 - 34.650]\n",
      "\n"
     ]
    }
   ],
   "source": [
    "# 2.b: What is the five-number summary of x for each category of the group? What are the values of the 1.5 \n",
    "#      IQR whiskers for each category of the group?\n",
    "\n",
    "print( sample.groupby(['group']).describe()['x'], '\\n')\n",
    "\n",
    "# Group 0\n",
    "IQR_g0 = 30.6 - 29.4\n",
    "IQR_g0_lo = 29.4 - 1.5*IQR_g0\n",
    "IQR_g0_hi = 30.6 + 1.5*IQR_g0\n",
    "\n",
    "#Group 1\n",
    "IQR_g1 = 32.7 - 31.4\n",
    "IQR_g1_lo = 31.4 - 1.5*IQR_g1\n",
    "IQR_g1_hi = 32.7 + 1.5*IQR_g1\n",
    "\n",
    "print('[Group 0]')\n",
    "print('IQR: %.3f' % IQR_g0)\n",
    "print('1.5*IQR Range: [%.3f - %.3f]\\n' % (IQR_g0_lo, IQR_g0_hi))\n",
    "\n",
    "print('[Group 1]')\n",
    "print('IQR: %.3f' % IQR_g1)\n",
    "print('1.5*IQR Range: [%.3f - %.3f]\\n' % (IQR_g1_lo, IQR_g1_hi))"
   ]
  },
  {
   "cell_type": "code",
   "execution_count": 252,
   "metadata": {},
   "outputs": [
    {
     "data": {
      "text/plain": [
       "<matplotlib.axes._subplots.AxesSubplot at 0x1a1be6ab50>"
      ]
     },
     "execution_count": 252,
     "metadata": {},
     "output_type": "execute_result"
    },
    {
     "data": {
      "image/png": "[encoded data removed]",
      "text/plain": [
       "<Figure size 432x288 with 1 Axes>"
      ]
     },
     "metadata": {
      "needs_background": "light"
     },
     "output_type": "display_data"
    }
   ],
   "source": [
    "# 2.c: Yes, because it correctly represents two low outliers (<27.4) and no high outliers (>35.4).\n",
    "\n",
    "sns.boxplot(data=sample['x'])"
   ]
  },
  {
   "cell_type": "code",
   "execution_count": 68,
   "metadata": {},
   "outputs": [
    {
     "data": {
      "text/html": [
       "<div>\n",
       "<style scoped>\n",
       "    .dataframe tbody tr th:only-of-type {\n",
       "        vertical-align: middle;\n",
       "    }\n",
       "\n",
       "    .dataframe tbody tr th {\n",
       "        vertical-align: top;\n",
       "    }\n",
       "\n",
       "    .dataframe thead th {\n",
       "        text-align: right;\n",
       "    }\n",
       "</style>\n",
       "<table border=\"1\" class=\"dataframe\">\n",
       "  <thead>\n",
       "    <tr style=\"text-align: right;\">\n",
       "      <th></th>\n",
       "      <th>i</th>\n",
       "      <th>group</th>\n",
       "      <th>x</th>\n",
       "    </tr>\n",
       "  </thead>\n",
       "  <tbody>\n",
       "    <tr>\n",
       "      <td>70</td>\n",
       "      <td>70</td>\n",
       "      <td>0</td>\n",
       "      <td>27.2</td>\n",
       "    </tr>\n",
       "    <tr>\n",
       "      <td>295</td>\n",
       "      <td>295</td>\n",
       "      <td>0</td>\n",
       "      <td>26.3</td>\n",
       "    </tr>\n",
       "  </tbody>\n",
       "</table>\n",
       "</div>"
      ],
      "text/plain": [
       "       i  group     x\n",
       "70    70      0  27.2\n",
       "295  295      0  26.3"
      ]
     },
     "execution_count": 68,
     "metadata": {},
     "output_type": "execute_result"
    }
   ],
   "source": [
    "sample[sample['x'] < iqr_low]\n",
    "# sample[sample['x'] > iqr_high]"
   ]
  },
  {
   "cell_type": "code",
   "execution_count": 69,
   "metadata": {},
   "outputs": [
    {
     "data": {
      "text/plain": [
       "<matplotlib.axes._subplots.AxesSubplot at 0x1a1b6d5610>"
      ]
     },
     "execution_count": 69,
     "metadata": {},
     "output_type": "execute_result"
    },
    {
     "data": {
      "image/png": "[encoded data removed]",
      "text/plain": [
       "<Figure size 432x288 with 1 Axes>"
      ]
     },
     "metadata": {
      "needs_background": "light"
     },
     "output_type": "display_data"
    }
   ],
   "source": [
    "# 2.d: Draw a graph where it contains the boxplot of x, the boxplot of x for each category of Group \n",
    "#      (i.e., three boxplots within the same graph frame).  Use the 1.5 IQR whiskers, identify the outliers of x, \n",
    "#      if any, for the entire data and for each category of the group.\n",
    "\n",
    "g0, g1 = [x for _, x in sample.groupby('group')['x']]\n",
    "all = sample['x']\n",
    "\n",
    "g0 = pd.DataFrame(g0).assign(Group='0')\n",
    "g1 = pd.DataFrame(g1).assign(Group='1')\n",
    "all = pd.DataFrame(all).assign(Group='all')\n",
    "\n",
    "cgrp = pd.concat([all, g0, g1])\n",
    "mgrp = pd.melt(cgrp, id_vars=['Group'], var_name=['Number'])\n",
    "\n",
    "sns.boxplot(x=\"Group\", y=\"value\", data=mgrp)"
   ]
  },
  {
   "cell_type": "code",
   "execution_count": 70,
   "metadata": {},
   "outputs": [
    {
     "name": "stdout",
     "output_type": "stream",
     "text": [
      "\n",
      "[OUTLIERS FOR THE ENTIRE DATA]\n",
      "70     27.2\n",
      "295    26.3\n",
      "Name: x, dtype: float64\n",
      "\n",
      "[OUTLIERS FOR GROUP 0]\n",
      "70     27.2\n",
      "295    26.3\n",
      "Name: x, dtype: float64\n",
      "\n",
      "[OUTLIERS FOR GROUP 1]\n",
      "30     35.3\n",
      "107    29.3\n",
      "297    35.4\n",
      "812    34.9\n",
      "846    34.7\n",
      "907    34.8\n",
      "938    29.3\n",
      "975    29.1\n",
      "Name: x, dtype: float64\n"
     ]
    }
   ],
   "source": [
    "# #Outliers\n",
    "# print( sample[sample['x'] < iqr_low] )\n",
    "# print( sample[sample['x'] > iqr_high])\n",
    "\n",
    "print('\\n[OUTLIERS FOR THE ENTIRE DATA]')\n",
    "print( sample[(sample['x'] < iqr_low) | (sample['x'] > iqr_high)]['x'] )\n",
    "\n",
    "print('\\n[OUTLIERS FOR GROUP 0]')\n",
    "print( g0[(g0['x'] < IQR_g0_lo) | (g0['x'] > IQR_g0_hi)]['x'] )\n",
    "\n",
    "print('\\n[OUTLIERS FOR GROUP 1]')\n",
    "print( g1[(g1['x'] < IQR_g1_lo) | (g1['x'] > IQR_g1_hi)]['x'] )"
   ]
  },
  {
   "cell_type": "markdown",
   "metadata": {},
   "source": [
    "## Question 3: kNN"
   ]
  },
  {
   "cell_type": "code",
   "execution_count": 258,
   "metadata": {},
   "outputs": [
    {
     "data": {
      "text/html": [
       "<div>\n",
       "<style scoped>\n",
       "    .dataframe tbody tr th:only-of-type {\n",
       "        vertical-align: middle;\n",
       "    }\n",
       "\n",
       "    .dataframe tbody tr th {\n",
       "        vertical-align: top;\n",
       "    }\n",
       "\n",
       "    .dataframe thead th {\n",
       "        text-align: right;\n",
       "    }\n",
       "</style>\n",
       "<table border=\"1\" class=\"dataframe\">\n",
       "  <thead>\n",
       "    <tr style=\"text-align: right;\">\n",
       "      <th></th>\n",
       "      <th>CASE_ID</th>\n",
       "      <th>FRAUD</th>\n",
       "      <th>TOTAL_SPEND</th>\n",
       "      <th>DOCTOR_VISITS</th>\n",
       "      <th>NUM_CLAIMS</th>\n",
       "      <th>MEMBER_DURATION</th>\n",
       "      <th>OPTOM_PRESC</th>\n",
       "      <th>NUM_MEMBERS</th>\n",
       "    </tr>\n",
       "  </thead>\n",
       "  <tbody>\n",
       "    <tr>\n",
       "      <td>0</td>\n",
       "      <td>1</td>\n",
       "      <td>1</td>\n",
       "      <td>1100</td>\n",
       "      <td>11</td>\n",
       "      <td>0</td>\n",
       "      <td>94</td>\n",
       "      <td>1</td>\n",
       "      <td>2</td>\n",
       "    </tr>\n",
       "    <tr>\n",
       "      <td>1</td>\n",
       "      <td>2</td>\n",
       "      <td>1</td>\n",
       "      <td>1300</td>\n",
       "      <td>7</td>\n",
       "      <td>2</td>\n",
       "      <td>122</td>\n",
       "      <td>0</td>\n",
       "      <td>1</td>\n",
       "    </tr>\n",
       "    <tr>\n",
       "      <td>2</td>\n",
       "      <td>3</td>\n",
       "      <td>1</td>\n",
       "      <td>1500</td>\n",
       "      <td>4</td>\n",
       "      <td>0</td>\n",
       "      <td>149</td>\n",
       "      <td>1</td>\n",
       "      <td>3</td>\n",
       "    </tr>\n",
       "    <tr>\n",
       "      <td>3</td>\n",
       "      <td>4</td>\n",
       "      <td>1</td>\n",
       "      <td>1500</td>\n",
       "      <td>9</td>\n",
       "      <td>0</td>\n",
       "      <td>180</td>\n",
       "      <td>1</td>\n",
       "      <td>1</td>\n",
       "    </tr>\n",
       "    <tr>\n",
       "      <td>4</td>\n",
       "      <td>5</td>\n",
       "      <td>0</td>\n",
       "      <td>1700</td>\n",
       "      <td>3</td>\n",
       "      <td>0</td>\n",
       "      <td>93</td>\n",
       "      <td>0</td>\n",
       "      <td>1</td>\n",
       "    </tr>\n",
       "  </tbody>\n",
       "</table>\n",
       "</div>"
      ],
      "text/plain": [
       "   CASE_ID  FRAUD  TOTAL_SPEND  DOCTOR_VISITS  NUM_CLAIMS  MEMBER_DURATION  \\\n",
       "0        1      1         1100             11           0               94   \n",
       "1        2      1         1300              7           2              122   \n",
       "2        3      1         1500              4           0              149   \n",
       "3        4      1         1500              9           0              180   \n",
       "4        5      0         1700              3           0               93   \n",
       "\n",
       "   OPTOM_PRESC  NUM_MEMBERS  \n",
       "0            1            2  \n",
       "1            0            1  \n",
       "2            1            3  \n",
       "3            1            1  \n",
       "4            0            1  "
      ]
     },
     "execution_count": 258,
     "metadata": {},
     "output_type": "execute_result"
    }
   ],
   "source": [
    "fraud = pd.read_csv('fraud.csv')\n",
    "fraud.head()"
   ]
  },
  {
   "cell_type": "code",
   "execution_count": 259,
   "metadata": {},
   "outputs": [
    {
     "name": "stdout",
     "output_type": "stream",
     "text": [
      "Percentage of fraudulent investigations: 0.1995\n"
     ]
    }
   ],
   "source": [
    "# 3.a: What percent of investigations are found to be fraudulent?  Please give your answer up to 4 decimal places.\n",
    "num_fraud = fraud[fraud['FRAUD'] == 1].count()['FRAUD']\n",
    "num_investigations = len(fraud)\n",
    "\n",
    "print('Percentage of fraudulent investigations: %.4f' % (num_fraud/num_investigations))"
   ]
  },
  {
   "cell_type": "code",
   "execution_count": 374,
   "metadata": {},
   "outputs": [],
   "source": [
    "# 3.b: \n",
    "fraud_interval = fraud.drop(['FRAUD', 'CASE_ID'], axis=1)\n",
    "fraud_long = pd.melt(fraud, id_vars=['FRAUD'])\n",
    "fraud_long.drop(fraud_long[fraud_long['variable'] == 'CASE_ID'].index)\n",
    "\n",
    "totalSpend = fraud_long[ fraud_long['variable'] == 'TOTAL_SPEND']\n",
    "doctorVisits = fraud_long[ fraud_long['variable'] == 'DOCTOR_VISITS']\n",
    "numClaims = fraud_long[ fraud_long['variable'] == 'NUM_CLAIMS']\n",
    "memberDuration = fraud_long[ fraud_long['variable'] == 'MEMBER_DURATION']\n",
    "optomPresc = fraud_long[ fraud_long['variable'] == 'OPTOM_PRESC']\n",
    "numMembers = fraud_long[ fraud_long['variable'] == 'NUM_MEMBERS']\n",
    "\n",
    "lizzums = [totalSpend, doctorVisits, numClaims, memberDuration, optomPresc, numMembers]\n",
    "\n",
    "\n",
    "def Q3B():\n",
    "    \n",
    "#     fig, axs = plt.subplots(ncols=6, figsize=(10,4))\n",
    "    for i, var in enumerate(lizzums):\n",
    "        sns.boxplot(x='value', y='variable', hue='FRAUD', data=var)\n",
    "#         axs[i].set(xlabel='value', ylabel='')\n",
    "\n",
    "    \n",
    "    plt.tight_layout()\n",
    "    plt.show()"
   ]
  },
  {
   "cell_type": "code",
   "execution_count": 373,
   "metadata": {},
   "outputs": [
    {
     "data": {
      "image/png": "[encoded data removed]",
      "text/plain": [
       "<Figure size 720x288 with 6 Axes>"
      ]
     },
     "metadata": {
      "needs_background": "light"
     },
     "output_type": "display_data"
    }
   ],
   "source": [
    "Q3B()"
   ]
  },
  {
   "cell_type": "code",
   "execution_count": 335,
   "metadata": {},
   "outputs": [
    {
     "name": "stdout",
     "output_type": "stream",
     "text": [
      "Eigenvalues of x = \n",
      " [6.84728061e+03 8.38798104e+03 1.80639631e+04 3.15839942e+05\n",
      " 8.44539131e+07 2.81233324e+12]\n",
      "Eigenvectors of x = \n",
      " [[-5.37750046e-06 -2.20900379e-05  3.62806809e-05 -1.36298664e-04\n",
      "  -7.26453432e-03  9.99973603e-01]\n",
      " [ 6.05433402e-03 -2.69942162e-02  1.27528313e-02  9.99013423e-01\n",
      "   3.23120126e-02  3.69879256e-04]\n",
      " [-9.82198935e-01  1.56454700e-01 -1.03312781e-01  1.14463687e-02\n",
      "   1.62110700e-03  1.52596881e-05]\n",
      " [ 1.59310591e-04 -4.91894718e-03  3.11864824e-03 -3.25018102e-02\n",
      "   9.99428355e-01  7.25592222e-03]\n",
      " [ 6.90939783e-02 -2.10615119e-01 -9.75101628e-01  6.26672294e-03\n",
      "   2.19857585e-03  4.79234486e-05]\n",
      " [ 1.74569737e-01  9.64577791e-01 -1.95782843e-01  2.73038995e-02\n",
      "   6.21788707e-03  7.82430481e-05]]\n",
      "Transformation Matrix = \n",
      " [[-6.49862374e-08 -2.41194689e-07  2.69941036e-07 -2.42525871e-07\n",
      "  -7.90492750e-07  5.96286732e-07]\n",
      " [ 7.31656633e-05 -2.94741983e-04  9.48855536e-05  1.77761538e-03\n",
      "   3.51604254e-06  2.20559915e-10]\n",
      " [-1.18697179e-02  1.70828329e-03 -7.68683456e-04  2.03673350e-05\n",
      "   1.76401304e-07  9.09938972e-12]\n",
      " [ 1.92524315e-06 -5.37085514e-05  2.32038406e-05 -5.78327741e-05\n",
      "   1.08753133e-04  4.32672436e-09]\n",
      " [ 8.34989734e-04 -2.29964514e-03 -7.25509934e-03  1.11508242e-05\n",
      "   2.39238772e-07  2.85768709e-11]\n",
      " [ 2.10964750e-03  1.05319439e-02 -1.45669326e-03  4.85837631e-05\n",
      "   6.76601477e-07  4.66565230e-11]]\n",
      "The Transformed x = \n",
      " [[ 5.96859502e-03  1.02081629e-02 -6.64664861e-03  1.39590283e-02\n",
      "   9.39352141e-03  6.56324665e-04]\n",
      " [-2.09672310e-02  5.01932025e-03  8.51930607e-04  5.16174400e-03\n",
      "   1.22658834e-02  7.75702220e-04]\n",
      " [ 7.64597676e-03  1.97528525e-02 -7.38335310e-03 -1.71350853e-03\n",
      "   1.50348109e-02  8.95075830e-04]\n",
      " ...\n",
      " [-7.18408819e-05 -1.62580211e-02  2.75078514e-02 -7.13245766e-03\n",
      "  -4.74021952e-02  5.31896971e-02]\n",
      " [-1.80147801e-04 -1.62154130e-02  2.76213381e-02 -9.17125411e-03\n",
      "  -4.76625006e-02  5.35474776e-02]\n",
      " [-2.21157680e-03 -2.73884697e-02  2.93391341e-02 -7.81347172e-03\n",
      "  -4.70861917e-02  5.36071324e-02]]\n",
      "Expect an Identity Matrix = \n",
      " [[ 1.00000000e+00 -3.00432422e-16 -4.61219604e-16  5.45323877e-15\n",
      "   1.20996962e-15 -1.28911638e-16]\n",
      " [-3.00432422e-16  1.00000000e+00 -6.44449771e-16 -2.76820667e-14\n",
      "  -1.23512311e-15  7.78890841e-16]\n",
      " [-4.61219604e-16 -6.44449771e-16  1.00000000e+00  3.49546780e-15\n",
      "   1.21430643e-16 -2.39391840e-16]\n",
      " [ 5.45323877e-15 -2.76820667e-14  3.49546780e-15  1.00000000e+00\n",
      "   1.14968798e-14 -3.47812057e-15]\n",
      " [ 1.20996962e-15 -1.23512311e-15  1.21430643e-16  1.14968798e-14\n",
      "   1.00000000e+00 -6.31439345e-16]\n",
      " [-1.28911638e-16  7.78890841e-16 -2.39391840e-16 -3.47812057e-15\n",
      "  -6.31439345e-16  1.00000000e+00]]\n"
     ]
    }
   ],
   "source": [
    "# 3.c:\n",
    "#    a: There are six dimensions whose corresponding evalues>1.0\n",
    "#    b: \n",
    "x = fraud_interval.to_numpy()\n",
    "xtx = x.transpose().dot(x)\n",
    "evals, evecs = LA.eigh(xtx)\n",
    "print(\"Eigenvalues of x = \\n\", evals)\n",
    "print(\"Eigenvectors of x = \\n\",evecs)\n",
    "\n",
    "# Here is the transformation matrix\n",
    "transf = np.dot(evecs, LA.inv(np.sqrt(np.diagflat(evals))));\n",
    "print(\"Transformation Matrix = \\n\", transf)\n",
    "\n",
    "# Here is the transformed X\n",
    "transf_x = np.dot(x, transf);\n",
    "print(\"The Transformed x = \\n\", transf_x)\n",
    "\n",
    "# Check columns of transformed X\n",
    "xtx = np.dot(transf_x.T, transf_x)\n",
    "print(\"Expect an Identity Matrix = \\n\", xtx)\n"
   ]
  },
  {
   "cell_type": "code",
   "execution_count": 349,
   "metadata": {},
   "outputs": [
    {
     "data": {
      "text/plain": [
       "0.8778523489932886"
      ]
     },
     "execution_count": 349,
     "metadata": {},
     "output_type": "execute_result"
    }
   ],
   "source": [
    "# 3-d.\n",
    "#    i: 81.96%\n",
    "#   ii: It returns the mean accuracy on the given test data and labels.\n",
    "X = transf_x  # transformed X from part c\n",
    "y = fraud['FRAUD'].to_numpy()\n",
    "\n",
    "X_train, X_test, y_train, y_test = train_test_split(X, y, test_size=0.2, random_state=42)\n",
    "neigh = KNeighborsClassifier(n_neighbors=5, metric='euclidean')\n",
    "neigh.fit(X, y)\n",
    "neigh.score(X, y)"
   ]
  },
  {
   "cell_type": "code",
   "execution_count": 338,
   "metadata": {},
   "outputs": [
    {
     "name": "stdout",
     "output_type": "stream",
     "text": [
      "My Neighbors = \n",
      " [[ 553  425 1101  457 1232]\n",
      " [3870 3160 5202 4968  176]\n",
      " [  31 5673 4228 5416 4776]\n",
      " [1030 1245 1231  733  369]\n",
      " [2748 2173 2224  776 1893]\n",
      " [2173 2748  776 2224  478]]\n"
     ]
    }
   ],
   "source": [
    "# 3-e.\n",
    "# Specify the kNN\n",
    "kNN_model = kNN(n_neighbors = 5, algorithm = 'brute', metric = 'euclidean')\n",
    "nbrs = kNN_model.fit(X, y)\n",
    "distances, indices = nbrs.kneighbors(X)\n",
    "\n",
    "focal = [[7500, 15, 4, 127, 2, 2]]\n",
    "\n",
    "transf_focal = focal * transf\n",
    "\n",
    "myNeighbors_t = nbrs.kneighbors(transf_focal, return_distance = False)\n",
    "print(\"My Neighbors = \\n\", myNeighbors_t)"
   ]
  },
  {
   "cell_type": "code",
   "execution_count": 348,
   "metadata": {},
   "outputs": [
    {
     "data": {
      "text/html": [
       "<div>\n",
       "<style scoped>\n",
       "    .dataframe tbody tr th:only-of-type {\n",
       "        vertical-align: middle;\n",
       "    }\n",
       "\n",
       "    .dataframe tbody tr th {\n",
       "        vertical-align: top;\n",
       "    }\n",
       "\n",
       "    .dataframe thead th {\n",
       "        text-align: right;\n",
       "    }\n",
       "</style>\n",
       "<table border=\"1\" class=\"dataframe\">\n",
       "  <thead>\n",
       "    <tr style=\"text-align: right;\">\n",
       "      <th></th>\n",
       "      <th>CASE_ID</th>\n",
       "      <th>FRAUD</th>\n",
       "      <th>TOTAL_SPEND</th>\n",
       "      <th>DOCTOR_VISITS</th>\n",
       "      <th>NUM_CLAIMS</th>\n",
       "      <th>MEMBER_DURATION</th>\n",
       "      <th>OPTOM_PRESC</th>\n",
       "      <th>NUM_MEMBERS</th>\n",
       "    </tr>\n",
       "  </thead>\n",
       "  <tbody>\n",
       "  </tbody>\n",
       "</table>\n",
       "</div>"
      ],
      "text/plain": [
       "Empty DataFrame\n",
       "Columns: [CASE_ID, FRAUD, TOTAL_SPEND, DOCTOR_VISITS, NUM_CLAIMS, MEMBER_DURATION, OPTOM_PRESC, NUM_MEMBERS]\n",
       "Index: []"
      ]
     },
     "execution_count": 348,
     "metadata": {},
     "output_type": "execute_result"
    }
   ],
   "source": [
    "fraud[fraud['TOTAL_SPEND'] == 1101]"
   ]
  },
  {
   "cell_type": "code",
   "execution_count": 293,
   "metadata": {},
   "outputs": [
    {
     "data": {
      "text/plain": [
       "0.10067114093959731"
      ]
     },
     "execution_count": 293,
     "metadata": {},
     "output_type": "execute_result"
    }
   ],
   "source": [
    "# 3-f.\n",
    "neigh_prediction = neigh.predict(X_test)\n",
    "sum(neigh_prediction == 1) / len(neigh_prediction)"
   ]
  },
  {
   "cell_type": "code",
   "execution_count": 295,
   "metadata": {},
   "outputs": [
    {
     "data": {
      "text/plain": [
       "array([0])"
      ]
     },
     "execution_count": 295,
     "metadata": {},
     "output_type": "execute_result"
    }
   ],
   "source": [
    "neigh.predict(focal)"
   ]
  },
  {
   "cell_type": "code",
   "execution_count": null,
   "metadata": {},
   "outputs": [],
   "source": []
  }
 ],
 "metadata": {
  "kernelspec": {
   "display_name": "Python 3",
   "language": "python",
   "name": "python3"
  },
  "language_info": {
   "codemirror_mode": {
    "name": "ipython",
    "version": 3
   },
   "file_extension": ".py",
   "mimetype": "text/x-python",
   "name": "python",
   "nbconvert_exporter": "python",
   "pygments_lexer": "ipython3",
   "version": "3.7.4"
  }
 },
 "nbformat": 4,
 "nbformat_minor": 2
}
