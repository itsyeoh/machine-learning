{
 "cells": [
  {
   "cell_type": "code",
   "execution_count": 2,
   "metadata": {},
   "outputs": [],
   "source": [
    "import pandas as pd\n",
    "import numpy as np\n",
    "import sklearn.model_selection as model_selection\n",
    "import sklearn.cluster as cluster\n",
    "import sklearn.metrics as metrics\n",
    "from sklearn.preprocessing import OneHotEncoder\n",
    "import math "
   ]
  },
  {
   "cell_type": "code",
   "execution_count": 55,
   "metadata": {},
   "outputs": [],
   "source": [
    "history = pd.read_csv('claim_history.csv')"
   ]
  },
  {
   "cell_type": "code",
   "execution_count": 60,
   "metadata": {},
   "outputs": [],
   "source": [
    "history = history[['CAR_TYPE', 'OCCUPATION', 'EDUCATION', 'CAR_USE']].dropna()\n",
    "\n",
    "#One-hot encoding\n",
    "education_mapper = {'Doctors': 4 , 'Masters': 3, 'Bachelors': 2, 'High School': 1, 'Below High School': 0}\n",
    "history['MAPPED_EDUCATION'] = history['EDUCATION'].replace(education_mapper)\n",
    "\n",
    "X = history[['CAR_TYPE', 'OCCUPATION', 'EDUCATION', 'MAPPED_EDUCATION']]\n",
    "y = history['CAR_USE']"
   ]
  },
  {
   "cell_type": "markdown",
   "metadata": {},
   "source": [
    "## QUESTION 1"
   ]
  },
  {
   "cell_type": "code",
   "execution_count": 61,
   "metadata": {},
   "outputs": [],
   "source": [
    "X_train, X_test, y_train, y_test = model_selection.train_test_split(X, y, train_size=0.75, random_state=60616)"
   ]
  },
  {
   "cell_type": "code",
   "execution_count": 62,
   "metadata": {},
   "outputs": [
    {
     "name": "stdout",
     "output_type": "stream",
     "text": [
      "Private: 4875 0.6309862800931918\n",
      "Commerc: 2851 0.3690137199068082\n"
     ]
    }
   ],
   "source": [
    "# Q1A\n",
    "priv_train, comm_train = y_train.value_counts()\n",
    "\n",
    "# Train\n",
    "print( 'Private: {} {}'.format(priv_train, (priv_train/(priv_train+comm_train))) )\n",
    "print( 'Commerc: {} {}'.format(comm_train, (comm_train/(priv_train+comm_train))) )"
   ]
  },
  {
   "cell_type": "code",
   "execution_count": 63,
   "metadata": {},
   "outputs": [
    {
     "name": "stdout",
     "output_type": "stream",
     "text": [
      "Private: 1638 0.6358695652173914\n",
      "Commerc: 938 0.3641304347826087\n"
     ]
    }
   ],
   "source": [
    "# Q1B\n",
    "priv_test, comm_test = y_test.value_counts()\n",
    "\n",
    "# Test\n",
    "print( 'Private: {} {}'.format(priv_test, (priv_test/(priv_test+comm_test))) )\n",
    "print( 'Commerc: {} {}'.format(comm_test, (comm_test/(priv_test+comm_test))) )"
   ]
  },
  {
   "cell_type": "code",
   "execution_count": 64,
   "metadata": {},
   "outputs": [
    {
     "data": {
      "text/plain": [
       "0.7524894878726821"
      ]
     },
     "execution_count": 64,
     "metadata": {},
     "output_type": "execute_result"
    }
   ],
   "source": [
    "# Q1C\n",
    "p_comm_train = y_train.value_counts()['Commercial'] / len(y_train) # P(Commercial | train)\n",
    "p_comm_test = y_test.value_counts()['Commercial'] / len(y_test)    # P(Commercial | test)\n",
    "p_train_comm = (p_comm_train * 0.75)/(p_comm_train * 0.75 + p_comm_test * 0.25)\n",
    "\n",
    "p_train_comm"
   ]
  },
  {
   "cell_type": "code",
   "execution_count": 65,
   "metadata": {},
   "outputs": [
    {
     "name": "stdout",
     "output_type": "stream",
     "text": [
      "0.6309862800931918\n",
      "0.6358695652173914\n",
      "0.6322071013742416\n",
      "0.25144828484020054\n"
     ]
    }
   ],
   "source": [
    "# Q1D\n",
    "p_priv_train = y_train.value_counts()['Private'] / len(y_train) # P(Private | train)\n",
    "p_priv_test = y_test.value_counts()['Private'] / len(y_test)    # P(Private | test)\n",
    "p_test_priv = (p_priv_test * 0.25)/(p_priv_train * 0.75 + p_priv_test * 0.25)\n",
    "# p_test_priv\n",
    "\n",
    "print(p_priv_train)\n",
    "print(p_priv_test)\n",
    "print((p_priv_train * 0.75 + p_priv_test * 0.25))\n",
    "print(p_test_priv)"
   ]
  },
  {
   "cell_type": "markdown",
   "metadata": {},
   "source": [
    "## QUESTION 2"
   ]
  },
  {
   "cell_type": "code",
   "execution_count": 18,
   "metadata": {},
   "outputs": [],
   "source": [
    "def EntropySplit (\n",
    "   inData,          # input data frame (predictor in column 0 and target in column 1)\n",
    "   split):          # split value\n",
    "\n",
    "   dataTable = inData\n",
    "   dataTable['LE_Split'] = (dataTable.iloc[:,0] <= split)\n",
    "\n",
    "   crossTable = pd.crosstab(index = dataTable['LE_Split'], columns = dataTable.iloc[:,1], margins = True, dropna = True)   \n",
    "   print(crossTable)\n",
    "\n",
    "   nRows = crossTable.shape[0]\n",
    "   nColumns = crossTable.shape[1]\n",
    "   \n",
    "   tableEntropy = 0\n",
    "   for iRow in range(nRows-1):\n",
    "      rowEntropy = 0\n",
    "      for iColumn in range(nColumns):\n",
    "         proportion = crossTable.iloc[iRow,iColumn] / crossTable.iloc[iRow,(nColumns-1)]\n",
    "         if (proportion > 0):\n",
    "            rowEntropy -= proportion * np.log2(proportion)\n",
    "      print('Row = ', iRow, 'Entropy =', rowEntropy)\n",
    "      print(' ')\n",
    "      tableEntropy += rowEntropy *  crossTable.iloc[iRow,(nColumns-1)]\n",
    "   tableEntropy = tableEntropy /  crossTable.iloc[(nRows-1),(nColumns-1)]\n",
    "  \n",
    "   return(tableEntropy)"
   ]
  },
  {
   "cell_type": "code",
   "execution_count": 19,
   "metadata": {},
   "outputs": [
    {
     "data": {
      "text/plain": [
       "0.9499117892797907"
      ]
     },
     "execution_count": 19,
     "metadata": {},
     "output_type": "execute_result"
    }
   ],
   "source": [
    "# 2A: Root Entropy\n",
    "prob_train_priv = y_train.value_counts()['Private'] / y_train.shape[0]\n",
    "prob_train_comm = y_train.value_counts()['Commercial'] / y_train.shape[0]\n",
    "\n",
    "root_entropy = -(prob_train_priv * np.log2(prob_train_priv) + prob_train_comm * np.log2(prob_train_comm))\n",
    "root_entropy"
   ]
  },
  {
   "cell_type": "code",
   "execution_count": 30,
   "metadata": {},
   "outputs": [
    {
     "name": "stdout",
     "output_type": "stream",
     "text": [
      "CAR_USE      Commercial  Private   All\n",
      "CAR_TYPE                              \n",
      "Minivan             422     1606  2028\n",
      "Panel Truck         638        0   638\n",
      "Pickup              792      512  1304\n",
      "SUV                 419     1742  2161\n",
      "Sports Car          146      737   883\n",
      "Van                 434      278   712\n",
      "All                2851     4875  7726\n",
      "\n",
      "\n",
      "CAR_USE       Commercial  Private   All\n",
      "OCCUPATION                             \n",
      "Blue Collar         1309      413  1722\n",
      "Clerical             220      962  1182\n",
      "Doctor                 0      233   233\n",
      "Home Maker            38      579   617\n",
      "Lawyer                 0      777   777\n",
      "Manager              227      708   935\n",
      "Professional         273      800  1073\n",
      "Student              338      350   688\n",
      "Unknown              446       53   499\n",
      "All                 2851     4875  7726\n",
      "\n",
      "\n",
      "CAR_USE            Commercial  Private   All\n",
      "EDUCATION                                   \n",
      "Bachelors                 895     1231  2126\n",
      "Below High School         257      881  1138\n",
      "Doctors                   226      471   697\n",
      "High School              1074     1139  2213\n",
      "Masters                   399     1153  1552\n",
      "All                      2851     4875  7726\n"
     ]
    }
   ],
   "source": [
    "# 2B: Split Criterion\n",
    "# CAR_USE ... 9 branches\n",
    "\n",
    "crossTab1 = pd.crosstab(index = X_train['CAR_TYPE'], columns = y_train, margins = True, dropna = True)   \n",
    "print(crossTab1)\n",
    "print('\\n')\n",
    "\n",
    "crossTab2 = pd.crosstab(index = X_train['OCCUPATION'], columns = y_train, margins = True, dropna = True)   \n",
    "print(crossTab2)\n",
    "print('\\n')\n",
    "\n",
    "crossTab3 = pd.crosstab(index = X_train['EDUCATION'], columns = y_train, margins = True, dropna = True)   \n",
    "print(crossTab3)"
   ]
  },
  {
   "cell_type": "code",
   "execution_count": 27,
   "metadata": {},
   "outputs": [],
   "source": [
    "def computeSplitEntropy(crossTable):\n",
    "    row = crossTable.shape[0] - 1\n",
    "    col = crossTable.shape[1] - 1\n",
    "    entropyList = []\n",
    "    splitEntropy = 0\n",
    "\n",
    "    for r in range(row):\n",
    "        p_comm = crossTable.iloc[r, 0] / crossTable.iloc[r, col]\n",
    "        p_priv = crossTable.iloc[r, 1] / crossTable.iloc[r, col]\n",
    "        entr = -(p_comm*np.log2(p_comm) + p_priv*np.log2(p_priv))\n",
    "        \n",
    "        if math.isnan(entr):\n",
    "            entr = 0\n",
    "        \n",
    "        entropyList.append(entr)\n",
    "\n",
    "    for i, entropy in enumerate(entropyList):\n",
    "        \n",
    "        splitEntropy += (crossTable.iloc[i, col]/crossTable.iloc[row, col]) * entropy\n",
    "\n",
    "    return splitEntropy\n",
    "    \n",
    "def computeEntropyReduction(crossTable):\n",
    "    return 1.0 - computeSplitEntropy(crossTable) "
   ]
  },
  {
   "cell_type": "code",
   "execution_count": 77,
   "metadata": {},
   "outputs": [],
   "source": [
    "def EntropyIntervalSplit(inData, split):\n",
    "    dataTable = inData\n",
    "    dataTable['LE_Split'] = (dataTable.iloc[:,0] <= split)\n",
    "\n",
    "    crossTable = pd.crosstab(index = dataTable['LE_Split'], columns = dataTable.iloc[:,1], margins = True, dropna = True)   \n",
    "    print(crossTable)\n",
    "\n",
    "    nRows = crossTable.shape[0]\n",
    "    nColumns = crossTable.shape[1]\n",
    "\n",
    "    tableEntropy = 0\n",
    "    for iRow in range(nRows-1):\n",
    "      rowEntropy = 0\n",
    "      for iColumn in range(nColumns):\n",
    "         proportion = crossTable.iloc[iRow,iColumn] / crossTable.iloc[iRow,(nColumns-1)]\n",
    "         if (proportion > 0):\n",
    "            rowEntropy -= proportion * np.log2(proportion)\n",
    "      print('Row = ', iRow, 'Entropy =', rowEntropy)\n",
    "      print(' ')\n",
    "      tableEntropy += rowEntropy *  crossTable.iloc[iRow,(nColumns-1)]\n",
    "    tableEntropy = tableEntropy /  crossTable.iloc[(nRows-1),(nColumns-1)]\n",
    "\n",
    "    return(tableEntropy)\n",
    "\n",
    "def EntropyNominalSplit(inData, split):\n",
    "    dataTable = inData\n",
    "    dataTable['LE_Split'] = list(map(lambda x: True if x in split else False, dataTable.iloc[:,0]))\n",
    "\n",
    "    crossTable = pd.crosstab(index = dataTable['LE_Split'], columns = dataTable.iloc[:,1], margins = True, dropna = True)   \n",
    "    print(crossTable)\n",
    "\n",
    "    nRows = crossTable.shape[0]\n",
    "    nColumns = crossTable.shape[1]\n",
    "\n",
    "    tableEntropy = 0\n",
    "    for iRow in range(nRows-1):\n",
    "      rowEntropy = 0\n",
    "      for iColumn in range(nColumns):\n",
    "         proportion = crossTable.iloc[iRow,iColumn] / crossTable.iloc[iRow,(nColumns-1)]\n",
    "         if (proportion > 0):\n",
    "            rowEntropy -= proportion * np.log2(proportion)\n",
    "      print('Row = ', iRow, 'Entropy =', rowEntropy)\n",
    "      print(' ')\n",
    "      tableEntropy += rowEntropy *  crossTable.iloc[iRow,(nColumns-1)]\n",
    "    tableEntropy = tableEntropy /  crossTable.iloc[(nRows-1),(nColumns-1)]\n",
    "\n",
    "    return(tableEntropy)"
   ]
  },
  {
   "cell_type": "code",
   "execution_count": 78,
   "metadata": {},
   "outputs": [
    {
     "name": "stdout",
     "output_type": "stream",
     "text": [
      "CAR_USE   Commercial  Private   All\n",
      "LE_Split                           \n",
      "False           2594     3994  6588\n",
      "True             257      881  1138\n",
      "All             2851     4875  7726\n",
      "Row =  0 Entropy = 0.9671746016358668\n",
      " \n",
      "Row =  1 Entropy = 0.770679454607363\n",
      " \n",
      "0.9382318787108813\n",
      "CAR_USE   Commercial  Private   All\n",
      "LE_Split                           \n",
      "False           1520     2855  4375\n",
      "True            1331     2020  3351\n",
      "All             2851     4875  7726\n",
      "Row =  0 Entropy = 0.9317505619436531\n",
      " \n",
      "Row =  1 Entropy = 0.969286027889095\n",
      " \n",
      "0.9480308294019983\n",
      "CAR_USE   Commercial  Private   All\n",
      "LE_Split                           \n",
      "False            625     1624  2249\n",
      "True            2226     3251  5477\n",
      "All             2851     4875  7726\n",
      "Row =  0 Entropy = 0.8525753860947878\n",
      " \n",
      "Row =  1 Entropy = 0.9745861473094304\n",
      " \n",
      "0.9390694242998872\n",
      "CAR_USE   Commercial  Private   All\n",
      "LE_Split                           \n",
      "False            226      471   697\n",
      "True            2625     4404  7029\n",
      "All             2851     4875  7726\n",
      "Row =  0 Entropy = 0.9089400164947454\n",
      " \n",
      "Row =  1 Entropy = 0.9532864266337004\n",
      " \n",
      "0.9492857214994975\n",
      "CAR_USE   Commercial  Private   All\n",
      "LE_Split                           \n",
      "True            2851     4875  7726\n",
      "All             2851     4875  7726\n",
      "Row =  0 Entropy = 0.9499117892797907\n",
      " \n",
      "0.9499117892797907\n"
     ]
    }
   ],
   "source": [
    "for i in [0.5, 1.5, 2.5, 3.5, 4.5]:\n",
    "    print( EntropyIntervalSplit(pd.concat([X_train['MAPPED_EDUCATION'], y_train], axis=1), i) )"
   ]
  },
  {
   "cell_type": "code",
   "execution_count": 66,
   "metadata": {},
   "outputs": [
    {
     "data": {
      "text/html": [
       "<div>\n",
       "<style scoped>\n",
       "    .dataframe tbody tr th:only-of-type {\n",
       "        vertical-align: middle;\n",
       "    }\n",
       "\n",
       "    .dataframe tbody tr th {\n",
       "        vertical-align: top;\n",
       "    }\n",
       "\n",
       "    .dataframe thead th {\n",
       "        text-align: right;\n",
       "    }\n",
       "</style>\n",
       "<table border=\"1\" class=\"dataframe\">\n",
       "  <thead>\n",
       "    <tr style=\"text-align: right;\">\n",
       "      <th></th>\n",
       "      <th>MAPPED_EDUCATION</th>\n",
       "      <th>CAR_USE</th>\n",
       "    </tr>\n",
       "  </thead>\n",
       "  <tbody>\n",
       "    <tr>\n",
       "      <td>724</td>\n",
       "      <td>1</td>\n",
       "      <td>Commercial</td>\n",
       "    </tr>\n",
       "    <tr>\n",
       "      <td>5793</td>\n",
       "      <td>3</td>\n",
       "      <td>Private</td>\n",
       "    </tr>\n",
       "    <tr>\n",
       "      <td>1939</td>\n",
       "      <td>2</td>\n",
       "      <td>Commercial</td>\n",
       "    </tr>\n",
       "    <tr>\n",
       "      <td>796</td>\n",
       "      <td>1</td>\n",
       "      <td>Commercial</td>\n",
       "    </tr>\n",
       "    <tr>\n",
       "      <td>6048</td>\n",
       "      <td>0</td>\n",
       "      <td>Private</td>\n",
       "    </tr>\n",
       "    <tr>\n",
       "      <td>...</td>\n",
       "      <td>...</td>\n",
       "      <td>...</td>\n",
       "    </tr>\n",
       "    <tr>\n",
       "      <td>4814</td>\n",
       "      <td>2</td>\n",
       "      <td>Private</td>\n",
       "    </tr>\n",
       "    <tr>\n",
       "      <td>1019</td>\n",
       "      <td>4</td>\n",
       "      <td>Commercial</td>\n",
       "    </tr>\n",
       "    <tr>\n",
       "      <td>4806</td>\n",
       "      <td>1</td>\n",
       "      <td>Private</td>\n",
       "    </tr>\n",
       "    <tr>\n",
       "      <td>3476</td>\n",
       "      <td>4</td>\n",
       "      <td>Commercial</td>\n",
       "    </tr>\n",
       "    <tr>\n",
       "      <td>9730</td>\n",
       "      <td>2</td>\n",
       "      <td>Commercial</td>\n",
       "    </tr>\n",
       "  </tbody>\n",
       "</table>\n",
       "<p>7726 rows × 2 columns</p>\n",
       "</div>"
      ],
      "text/plain": [
       "      MAPPED_EDUCATION     CAR_USE\n",
       "724                  1  Commercial\n",
       "5793                 3     Private\n",
       "1939                 2  Commercial\n",
       "796                  1  Commercial\n",
       "6048                 0     Private\n",
       "...                ...         ...\n",
       "4814                 2     Private\n",
       "1019                 4  Commercial\n",
       "4806                 1     Private\n",
       "3476                 4  Commercial\n",
       "9730                 2  Commercial\n",
       "\n",
       "[7726 rows x 2 columns]"
      ]
     },
     "execution_count": 66,
     "metadata": {},
     "output_type": "execute_result"
    }
   ],
   "source": [
    "pd.concat([X_train['MAPPED_EDUCATION'], y_train], axis=1)"
   ]
  },
  {
   "cell_type": "code",
   "execution_count": 95,
   "metadata": {},
   "outputs": [
    {
     "name": "stdout",
     "output_type": "stream",
     "text": [
      "('hey',)\n",
      "('ho',)\n",
      "('hoe',)\n",
      "('hey', 'ho')\n",
      "('hey', 'hoe')\n",
      "('ho', 'hoe')\n",
      "('hey', 'ho', 'hoe')\n"
     ]
    }
   ],
   "source": [
    "from itertools import combinations \n",
    "\n",
    "l = ['hey', 'ho', 'hoe']\n",
    "\n",
    "for i in range(1, len(l)+1):\n",
    "    comb = combinations(l, i)\n",
    "    \n",
    "    for j in list(comb):\n",
    "        print(j)"
   ]
  },
  {
   "cell_type": "code",
   "execution_count": null,
   "metadata": {},
   "outputs": [],
   "source": []
  }
 ],
 "metadata": {
  "kernelspec": {
   "display_name": "Python 3",
   "language": "python",
   "name": "python3"
  },
  "language_info": {
   "codemirror_mode": {
    "name": "ipython",
    "version": 3
   },
   "file_extension": ".py",
   "mimetype": "text/x-python",
   "name": "python",
   "nbconvert_exporter": "python",
   "pygments_lexer": "ipython3",
   "version": "3.7.4"
  }
 },
 "nbformat": 4,
 "nbformat_minor": 2
}
