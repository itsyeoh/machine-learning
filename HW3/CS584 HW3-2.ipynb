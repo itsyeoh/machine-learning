{
 "cells": [
  {
   "cell_type": "code",
   "execution_count": 6,
   "metadata": {},
   "outputs": [],
   "source": [
    "import pandas as pd\n",
    "import numpy as np\n",
    "import sklearn.model_selection as model_selection\n",
    "import sklearn.cluster as cluster\n",
    "import sklearn.metrics as metrics\n",
    "from sklearn.preprocessing import OneHotEncoder\n",
    "import math \n",
    "from itertools import combinations \n",
    "import matplotlib.pyplot as plt\n",
    "import sklearn.metrics as metrics"
   ]
  },
  {
   "cell_type": "code",
   "execution_count": 7,
   "metadata": {},
   "outputs": [],
   "source": [
    "history = pd.read_csv('claim_history.csv')\n",
    "history = history[['CAR_TYPE', 'OCCUPATION', 'EDUCATION', 'CAR_USE']].dropna()\n",
    "\n",
    "#One-hot encoding\n",
    "education_mapper = {'Doctors': 4 , 'Masters': 3, 'Bachelors': 2, 'High School': 1, 'Below High School': 0}\n",
    "history['MAPPED_EDUCATION'] = history['EDUCATION'].replace(education_mapper)"
   ]
  },
  {
   "cell_type": "markdown",
   "metadata": {},
   "source": [
    "## QUESTION 1"
   ]
  },
  {
   "cell_type": "code",
   "execution_count": 8,
   "metadata": {},
   "outputs": [],
   "source": [
    "train, test = model_selection.train_test_split(history, train_size=0.75, random_state=60616, stratify=history['CAR_USE'])"
   ]
  },
  {
   "cell_type": "code",
   "execution_count": 9,
   "metadata": {},
   "outputs": [
    {
     "name": "stdout",
     "output_type": "stream",
     "text": [
      "4884 2842\n",
      "0.6321511778410561 0.3678488221589438\n"
     ]
    }
   ],
   "source": [
    "#1A:\n",
    "num_private, num_commercial = pd.value_counts(train['CAR_USE'])\n",
    "p_private_train = num_private/(num_commercial + num_private)\n",
    "p_commercial_train = num_commercial/(num_commercial + num_private)\n",
    "\n",
    "print(num_private, num_commercial)\n",
    "print(p_private_train, p_commercial_train)"
   ]
  },
  {
   "cell_type": "code",
   "execution_count": 10,
   "metadata": {},
   "outputs": [
    {
     "name": "stdout",
     "output_type": "stream",
     "text": [
      "1629 947\n",
      "0.6323757763975155 0.3676242236024845\n"
     ]
    }
   ],
   "source": [
    "#1B:\n",
    "num_private_test, num_commercial_test = pd.value_counts(test['CAR_USE'])\n",
    "p_private_test = num_private_test/(num_commercial_test + num_private_test)\n",
    "p_commercial_test = num_commercial_test/(num_commercial_test + num_private_test)\n",
    "\n",
    "print(num_private_test, num_commercial_test)\n",
    "print(p_private_test, p_commercial_test)"
   ]
  },
  {
   "cell_type": "code",
   "execution_count": 11,
   "metadata": {},
   "outputs": [
    {
     "data": {
      "text/plain": [
       "0.7501144999138988"
      ]
     },
     "execution_count": 11,
     "metadata": {},
     "output_type": "execute_result"
    }
   ],
   "source": [
    "#1C:\n",
    "p_train_commercial = (p_commercial_train * 0.75)/(p_commercial_train * 0.75 + p_commercial_test * 0.25)\n",
    "p_train_commercial"
   ]
  },
  {
   "cell_type": "code",
   "execution_count": 12,
   "metadata": {},
   "outputs": [
    {
     "data": {
      "text/plain": [
       "0.25006661142240155"
      ]
     },
     "execution_count": 12,
     "metadata": {},
     "output_type": "execute_result"
    }
   ],
   "source": [
    "#1D:\n",
    "p_test_private = (p_private_test * 0.25)/(p_private_train * 0.75 + p_private_test * 0.25)\n",
    "p_test_private"
   ]
  },
  {
   "cell_type": "markdown",
   "metadata": {},
   "source": [
    "## QUESTION 2"
   ]
  },
  {
   "cell_type": "code",
   "execution_count": 13,
   "metadata": {},
   "outputs": [],
   "source": [
    "def EntropyIntervalSplit(inData, split):\n",
    "    dataTable = inData\n",
    "    dataTable['LE_Split'] = (dataTable.iloc[:,0] <= split)\n",
    "\n",
    "    crossTable = pd.crosstab(index = dataTable['LE_Split'], columns = dataTable.iloc[:,1], margins = True, dropna = True)   \n",
    "    nRows = crossTable.shape[0]\n",
    "    nColumns = crossTable.shape[1]\n",
    "\n",
    "    tableEntropy = 0\n",
    "    for iRow in range(nRows-1):\n",
    "      rowEntropy = 0\n",
    "      for iColumn in range(nColumns):\n",
    "         proportion = crossTable.iloc[iRow,iColumn] / crossTable.iloc[iRow,(nColumns-1)]\n",
    "         if (proportion > 0):\n",
    "            rowEntropy -= proportion * np.log2(proportion)\n",
    "      tableEntropy += rowEntropy *  crossTable.iloc[iRow,(nColumns-1)]\n",
    "    tableEntropy = tableEntropy /  crossTable.iloc[(nRows-1),(nColumns-1)]\n",
    "\n",
    "    return(tableEntropy)\n",
    "\n",
    "def EntropyNominalSplit(inData, split):\n",
    "    dataTable = inData\n",
    "    dataTable['LE_Split'] = list(map(lambda x: True if x in split else False, dataTable.iloc[:,0]))\n",
    "\n",
    "    crossTable = pd.crosstab(index = dataTable['LE_Split'], columns = dataTable.iloc[:,1], margins = True, dropna = True)   \n",
    "    nRows = crossTable.shape[0]\n",
    "    nColumns = crossTable.shape[1]\n",
    "\n",
    "    tableEntropy = 0\n",
    "    for iRow in range(nRows-1):\n",
    "      rowEntropy = 0\n",
    "      for iColumn in range(nColumns):\n",
    "         proportion = crossTable.iloc[iRow,iColumn] / crossTable.iloc[iRow,(nColumns-1)]\n",
    "         if (proportion > 0):\n",
    "            rowEntropy -= proportion * np.log2(proportion)\n",
    "      tableEntropy += rowEntropy *  crossTable.iloc[iRow,(nColumns-1)]\n",
    "    tableEntropy = tableEntropy /  crossTable.iloc[(nRows-1),(nColumns-1)]\n",
    "\n",
    "    return(tableEntropy)\n",
    "\n",
    "def getOptimalNominalSplit(inData, splits):\n",
    "    minEntropy = 1.0\n",
    "    minCombination = []\n",
    "    length = len(splits) + 1\n",
    "    \n",
    "    for i in range(1, length):\n",
    "        for comb in list(combinations(splits, i)):\n",
    "            currCombination = list(comb)\n",
    "            currEntropy = EntropyNominalSplit(inData, currCombination)\n",
    "\n",
    "            if currEntropy < minEntropy:\n",
    "                minEntropy = currEntropy\n",
    "                minCombination = currCombination\n",
    "    \n",
    "    return (minEntropy, minCombination, list(set(splits)-set(minCombination)))\n",
    "\n",
    "def getOptimalIntervalSplit(inData, splits):\n",
    "    minEntropy = 1.0\n",
    "    minSplit = -1.0\n",
    "    length = len(splits)\n",
    "    \n",
    "    for i in range(length):\n",
    "        currEntropy = EntropyIntervalSplit(inData, splits[i])\n",
    "        \n",
    "        if currEntropy < minEntropy:\n",
    "            minEntropy = currEntropy\n",
    "            minSplit = splits[i]\n",
    "    \n",
    "    return (minEntropy, minSplit) \n",
    "\n",
    "def getEntropy(p_private, p_commercial):\n",
    "    return -(p_private * np.log2(p_private) + p_commercial * np.log2(p_commercial))\n",
    "\n",
    "def printCounts(data, decisionRule):\n",
    "    frequency_table = pd.value_counts(data['CAR_USE'])\n",
    "    num_p = frequency_table['Private']\n",
    "    num_c = frequency_table['Commercial']\n",
    "    nums = num_p + num_c\n",
    "    entropy =  getEntropy(num_p/nums, num_c/nums)\n",
    "    \n",
    "    print('Decision Rule: {}'.format(decisionRule))\n",
    "    print('Private Count: {}'.format(num_p))\n",
    "    print('Commercial Count: {}'.format(num_c))\n",
    "    print('Total Count: {}'.format(nums))\n",
    "    print('Entropy: {}\\n'.format(entropy))   \n",
    "    \n",
    "def getProbabilities(data):\n",
    "    frequency_table = pd.value_counts(data['CAR_USE'])\n",
    "    num_p = frequency_table['Private']\n",
    "    num_c = frequency_table['Commercial']\n",
    "    nums = num_p + num_c\n",
    "    return (num_p/nums, num_c/nums)"
   ]
  },
  {
   "cell_type": "code",
   "execution_count": 14,
   "metadata": {},
   "outputs": [
    {
     "data": {
      "text/plain": [
       "0.9490060293033189"
      ]
     },
     "execution_count": 14,
     "metadata": {},
     "output_type": "execute_result"
    }
   ],
   "source": [
    "#2A:\n",
    "root_entropy = getEntropy(p_private_train, p_commercial_train)\n",
    "root_entropy"
   ]
  },
  {
   "cell_type": "code",
   "execution_count": 15,
   "metadata": {},
   "outputs": [
    {
     "name": "stderr",
     "output_type": "stream",
     "text": [
      "/Users/jasonyeoh/opt/anaconda3/lib/python3.7/site-packages/ipykernel_launcher.py:23: SettingWithCopyWarning: \n",
      "A value is trying to be set on a copy of a slice from a DataFrame.\n",
      "Try using .loc[row_indexer,col_indexer] = value instead\n",
      "\n",
      "See the caveats in the documentation: http://pandas.pydata.org/pandas-docs/stable/user_guide/indexing.html#returning-a-view-versus-a-copy\n"
     ]
    },
    {
     "name": "stdout",
     "output_type": "stream",
     "text": [
      "(0.7672354798857937, ['Minivan', 'SUV', 'Sports Car'], ['Panel Truck', 'Pickup', 'Van'])\n",
      "(0.7184955941364275, ['Blue Collar', 'Student', 'Unknown'], ['Doctor', 'Lawyer', 'Manager', 'Clerical', 'Professional', 'Home Maker'])\n",
      "(0.9354337466111206, 0.5)\n"
     ]
    },
    {
     "name": "stderr",
     "output_type": "stream",
     "text": [
      "/Users/jasonyeoh/opt/anaconda3/lib/python3.7/site-packages/ipykernel_launcher.py:3: SettingWithCopyWarning: \n",
      "A value is trying to be set on a copy of a slice from a DataFrame.\n",
      "Try using .loc[row_indexer,col_indexer] = value instead\n",
      "\n",
      "See the caveats in the documentation: http://pandas.pydata.org/pandas-docs/stable/user_guide/indexing.html#returning-a-view-versus-a-copy\n",
      "  This is separate from the ipykernel package so we can avoid doing imports until\n"
     ]
    }
   ],
   "source": [
    "#2B:\n",
    "occupations = ['Blue Collar', 'Clerical', 'Doctor', 'Home Maker', 'Lawyer', 'Manager', 'Professional',\n",
    "              'Student', 'Unknown']\n",
    "car_types = ['Minivan', 'Panel Truck', 'Pickup', 'SUV', 'Sports Car', 'Van']\n",
    "mapped_education_splits = [0.5, 1.5, 2.5, 3.5, 4.5]\n",
    "\n",
    "print( getOptimalNominalSplit(train[['CAR_TYPE', 'CAR_USE']], car_types) )\n",
    "print( getOptimalNominalSplit(train[['OCCUPATION', 'CAR_USE']], occupations) )\n",
    "print( getOptimalIntervalSplit(train[['MAPPED_EDUCATION', 'CAR_USE']], mapped_education_splits) )"
   ]
  },
  {
   "cell_type": "code",
   "execution_count": 16,
   "metadata": {},
   "outputs": [
    {
     "name": "stderr",
     "output_type": "stream",
     "text": [
      "/Users/jasonyeoh/opt/anaconda3/lib/python3.7/site-packages/ipykernel_launcher.py:23: SettingWithCopyWarning: \n",
      "A value is trying to be set on a copy of a slice from a DataFrame.\n",
      "Try using .loc[row_indexer,col_indexer] = value instead\n",
      "\n",
      "See the caveats in the documentation: http://pandas.pydata.org/pandas-docs/stable/user_guide/indexing.html#returning-a-view-versus-a-copy\n"
     ]
    },
    {
     "name": "stdout",
     "output_type": "stream",
     "text": [
      "(0.8072641585823174, ['Student'], ['Unknown', 'Blue Collar'])\n",
      "(0.7736038505678898, ['Minivan', 'SUV', 'Sports Car'], ['Panel Truck', 'Pickup', 'Van'])\n",
      "(0.6828825901259153, 0.5)\n",
      "\n",
      "\n"
     ]
    },
    {
     "name": "stderr",
     "output_type": "stream",
     "text": [
      "/Users/jasonyeoh/opt/anaconda3/lib/python3.7/site-packages/ipykernel_launcher.py:3: SettingWithCopyWarning: \n",
      "A value is trying to be set on a copy of a slice from a DataFrame.\n",
      "Try using .loc[row_indexer,col_indexer] = value instead\n",
      "\n",
      "See the caveats in the documentation: http://pandas.pydata.org/pandas-docs/stable/user_guide/indexing.html#returning-a-view-versus-a-copy\n",
      "  This is separate from the ipykernel package so we can avoid doing imports until\n"
     ]
    },
    {
     "name": "stdout",
     "output_type": "stream",
     "text": [
      "(0.5727843462818438, ['Lawyer', 'Home Maker', 'Doctor'], ['Clerical', 'Professional', 'Manager'])\n",
      "(0.3364029948589687, ['Minivan', 'SUV', 'Sports Car'], ['Panel Truck', 'Pickup', 'Van'])\n",
      "(0.6241205457081782, 2.5)\n"
     ]
    }
   ],
   "source": [
    "#2C:\n",
    "occupations_left = ['Blue Collar', 'Student', 'Unknown']\n",
    "occupations_right = ['Lawyer', 'Manager', 'Home Maker', 'Professional', 'Doctor', 'Clerical']\n",
    "\n",
    "left_data = train[train['OCCUPATION'].isin(occupations_left)]\n",
    "right_data = train[train['OCCUPATION'].isin(occupations_right)]\n",
    "\n",
    "# LEFT BRANCH\n",
    "print( getOptimalNominalSplit(left_data[['OCCUPATION', 'CAR_USE']], occupations_left) )\n",
    "print( getOptimalNominalSplit(left_data[['CAR_TYPE', 'CAR_USE']], car_types) )\n",
    "print( getOptimalIntervalSplit(left_data[['MAPPED_EDUCATION', 'CAR_USE']], mapped_education_splits) )\n",
    "print('\\n')\n",
    "\n",
    "# RIGHT BRANCH\n",
    "print( getOptimalNominalSplit(right_data[['OCCUPATION', 'CAR_USE']], occupations_right) )\n",
    "print( getOptimalNominalSplit(right_data[['CAR_TYPE', 'CAR_USE']], car_types) )\n",
    "print( getOptimalIntervalSplit(right_data[['MAPPED_EDUCATION', 'CAR_USE']], mapped_education_splits) )"
   ]
  },
  {
   "cell_type": "code",
   "execution_count": 17,
   "metadata": {},
   "outputs": [
    {
     "name": "stdout",
     "output_type": "stream",
     "text": [
      "Decision Rule: Education <= Below High School\n",
      "Private Count: 453\n",
      "Commercial Count: 167\n",
      "Total Count: 620\n",
      "Entropy: 0.8405373462676067\n",
      "\n",
      "Decision Rule: Education > Below High School\n",
      "Private Count: 369\n",
      "Commercial Count: 1904\n",
      "Total Count: 2273\n",
      "Entropy: 0.639879533017315\n",
      "\n",
      "Decision Rule: CarType = [Minivan, SUV, Sports Car]\n",
      "Private Count: 3415\n",
      "Commercial Count: 29\n",
      "Total Count: 3444\n",
      "Entropy: 0.07012958082027575\n",
      "\n",
      "Decision Rule: CarType = [Pickup, Van, Panel Truck]\n",
      "Private Count: 647\n",
      "Commercial Count: 742\n",
      "Total Count: 1389\n",
      "Entropy: 0.9966230365790971\n",
      "\n"
     ]
    }
   ],
   "source": [
    "#2D:\n",
    "carTypes_left = ['Minivan', 'SUV', 'Sports Car']\n",
    "carTypes_right = ['Panel Truck', 'Van', 'Pickup']\n",
    "\n",
    "ll_data = left_data[left_data['MAPPED_EDUCATION'] <= 0.5]\n",
    "lr_data = left_data[left_data['MAPPED_EDUCATION'] > 0.5]\n",
    "rl_data = right_data[right_data['CAR_TYPE'].isin(carTypes_left)]\n",
    "rr_data = right_data[right_data['CAR_TYPE'].isin(carTypes_right)]\n",
    "\n",
    "printCounts(ll_data, 'Education <= Below High School')\n",
    "printCounts(lr_data, 'Education > Below High School')\n",
    "printCounts(rl_data, 'CarType = [Minivan, SUV, Sports Car]')\n",
    "printCounts(rr_data, 'CarType = [Pickup, Van, Panel Truck]')"
   ]
  },
  {
   "cell_type": "code",
   "execution_count": 22,
   "metadata": {},
   "outputs": [
    {
     "name": "stderr",
     "output_type": "stream",
     "text": [
      "/Users/jasonyeoh/opt/anaconda3/lib/python3.7/site-packages/ipykernel_launcher.py:2: SettingWithCopyWarning: \n",
      "A value is trying to be set on a copy of a slice from a DataFrame.\n",
      "Try using .loc[row_indexer,col_indexer] = value instead\n",
      "\n",
      "See the caveats in the documentation: http://pandas.pydata.org/pandas-docs/stable/user_guide/indexing.html#returning-a-view-versus-a-copy\n",
      "  \n"
     ]
    },
    {
     "data": {
      "image/png": "[encoded data removed]",
      "text/plain": [
       "<Figure size 432x288 with 1 Axes>"
      ]
     },
     "metadata": {
      "needs_background": "light"
     },
     "output_type": "display_data"
    },
    {
     "name": "stdout",
     "output_type": "stream",
     "text": [
      "[1.83765948 0.83765948 0.53419726 0.26935484 0.00842044]\n",
      "[0.         0.59439791 0.72300827 0.68901787 0.        ]\n"
     ]
    }
   ],
   "source": [
    "#2E:\n",
    "train['PROBABILITY'] = train.iloc[:].apply(lambda x: getPredictedProbability(x), axis=1)\n",
    "threshold = num_commercial/(num_private + num_commercial)\n",
    "\n",
    "# Get misclassification rate\n",
    "Y_train = np.array(train['CAR_USE'])\n",
    "predProbY_train = np.array(train['PROBABILITY'])\n",
    "predY = np.empty_like(Y_train)\n",
    "nYt = Y.shape[0]\n",
    "\n",
    "for i in range(nYt):\n",
    "    if predProbY[i] > threshold:\n",
    "        predY[i] = 'Commercial'\n",
    "    else:\n",
    "        predY[i] = 'Private'\n",
    "        \n",
    "fpr, tpr, thresholds = metrics.roc_curve(Y_train, predProbY_train, pos_label = 'Commercial')\n",
    "\n",
    "cutoff = np.where(thresholds > 1.0, np.nan, thresholds)\n",
    "plt.plot(cutoff, tpr, marker = 'o', label = 'True Positive',\n",
    "         color = 'blue', linestyle = 'solid', linewidth = 2, markersize = 6)\n",
    "plt.plot(cutoff, fpr, marker = 'o', label = 'False Positive',\n",
    "         color = 'red', linestyle = 'solid', linewidth = 2, markersize = 6)\n",
    "plt.grid(True)\n",
    "plt.xlabel(\"Probability Threshold\")\n",
    "plt.ylabel(\"Positive Rate\")\n",
    "plt.legend(loc = 'upper right', shadow = True, fontsize = 'large')\n",
    "plt.show()\n",
    "\n",
    "print(thresholds)\n",
    "print(tpr-fpr)"
   ]
  },
  {
   "cell_type": "markdown",
   "metadata": {},
   "source": [
    "## QUESTION 3"
   ]
  },
  {
   "cell_type": "code",
   "execution_count": 32,
   "metadata": {},
   "outputs": [
    {
     "name": "stdout",
     "output_type": "stream",
     "text": [
      "                  Accuracy: 0.8540372670807\n",
      "    Misclassification Rate: 0.1459627329193\n",
      "          Area Under Curve: 0.9315819462838\n",
      "Root Average Squared Error: 0.3072884960164\n",
      "   Root Mean Squared Error: 0.3072884960164\n",
      "                      Gini: 0.8631638925676\n",
      "1372467 40896 129300\n",
      "     Goodman-Kruskal Gamma: 0.9421295166210\n"
     ]
    },
    {
     "name": "stderr",
     "output_type": "stream",
     "text": [
      "/Users/jasonyeoh/opt/anaconda3/lib/python3.7/site-packages/ipykernel_launcher.py:43: SettingWithCopyWarning: \n",
      "A value is trying to be set on a copy of a slice from a DataFrame.\n",
      "Try using .loc[row_indexer,col_indexer] = value instead\n",
      "\n",
      "See the caveats in the documentation: http://pandas.pydata.org/pandas-docs/stable/user_guide/indexing.html#returning-a-view-versus-a-copy\n"
     ]
    }
   ],
   "source": [
    "#3A:\n",
    "# Event = Commercial, Non-event = Private\n",
    "threshold = num_commercial/(num_private + num_commercial)\n",
    "\n",
    "p_priv_ll, p_comm_ll = getProbabilities(ll_data)\n",
    "p_priv_lr, p_comm_lr = getProbabilities(lr_data)\n",
    "p_priv_rl, p_comm_rl = getProbabilities(rl_data)\n",
    "p_priv_rr, p_comm_rr = getProbabilities(rr_data)\n",
    "\n",
    "# revised_data = pd.concat([ll_data, lr_data, rl_data, rr_data], axis=0)\n",
    "def getPredictedProbability(data):\n",
    "    if data['OCCUPATION'] in ('Blue Collar', 'Student', 'Unknown'):\n",
    "        if data['MAPPED_EDUCATION'] <= 0.5:\n",
    "            return p_comm_ll\n",
    "        else:\n",
    "            return p_comm_lr\n",
    "    else:\n",
    "        if data['CAR_TYPE'] in ('Minivan', 'SUV', 'Sports Car'):\n",
    "            return p_comm_rl\n",
    "        else:\n",
    "            return p_comm_rr\n",
    "\n",
    "def goodmanKruskalsGamma(data):\n",
    "    event = list(data[data['CAR_USE'] == 'Commercial']['PROBABILITY'])\n",
    "    non_event = list(data[data['CAR_USE'] == 'Private']['PROBABILITY'])\n",
    "\n",
    "    C = 0\n",
    "    D = 0\n",
    "    T = 0\n",
    "\n",
    "    for e in event:\n",
    "        for ne in non_event:\n",
    "            if e > ne:\n",
    "                C += 1\n",
    "            elif e == ne:\n",
    "                T += 1\n",
    "            else:\n",
    "                D += 1\n",
    "\n",
    "    print(C, D, T)\n",
    "    return((C-D)/(C+D))\n",
    "\n",
    "test['PROBABILITY'] = test.iloc[:].apply(lambda x: getPredictedProbability(x), axis=1)\n",
    "\n",
    "# Get misclassification rate\n",
    "Y = np.array(test['CAR_USE'])\n",
    "predProbY = np.array(test['PROBABILITY'])\n",
    "predY = np.empty_like(Y)\n",
    "nY = Y.shape[0]\n",
    "\n",
    "for i in range(nY):\n",
    "    if predProbY[i] > threshold:\n",
    "        predY[i] = 'Commercial'\n",
    "    else:\n",
    "        predY[i] = 'Private'\n",
    "\n",
    "RASE = 0.0\n",
    "for i in range(nY):\n",
    "    if (Y[i] == 'Commercial'):\n",
    "        RASE += (1 - predProbY[i])**2\n",
    "    else:\n",
    "        RASE += (0 - predProbY[i])**2\n",
    "RASE = np.sqrt(RASE/nY)\n",
    "\n",
    "# Calculate the Root Mean Squared Error\n",
    "Y_true = 1.0 * np.isin(Y, ['Commercial'])\n",
    "RMSE = metrics.mean_squared_error(Y_true, predProbY)\n",
    "RMSE = np.sqrt(RMSE)\n",
    "\n",
    "AUC = metrics.roc_auc_score(Y_true, predProbY)\n",
    "Gini = 2 * AUC - 1\n",
    "accuracy = metrics.accuracy_score(Y, predY)\n",
    "        \n",
    "print('                  Accuracy: {:.13f}' .format(accuracy))\n",
    "print('    Misclassification Rate: {:.13f}' .format(1-accuracy))\n",
    "print('          Area Under Curve: {:.13f}' .format(AUC))\n",
    "print('Root Average Squared Error: {:.13f}' .format(RASE))\n",
    "print('   Root Mean Squared Error: {:.13f}' .format(RMSE))\n",
    "print('                      Gini: {:.13f}' .format(Gini))\n",
    "print('     Goodman-Kruskal Gamma: {:.13f}' .format(goodmanKruskalsGamma(test)))"
   ]
  },
  {
   "cell_type": "code",
   "execution_count": 30,
   "metadata": {},
   "outputs": [
    {
     "name": "stdout",
     "output_type": "stream",
     "text": [
      "0.8540372670807453\n",
      "0.14596273291925466\n"
     ]
    }
   ],
   "source": [
    "#3B:\n",
    "ks_threshold = 0.53419726 \n",
    "ks_predY = np.empty_like(Y)\n",
    "for i in range(nY):\n",
    "    if predProbY[i] > ks_threshold:\n",
    "        ks_predY[i] = 'Commercial'\n",
    "    else:\n",
    "        ks_predY[i] = 'Private'\n",
    "\n",
    "print(metrics.accuracy_score(Y, ks_predY))\n",
    "print(1.0 - metrics.accuracy_score(Y, ks_predY))"
   ]
  },
  {
   "cell_type": "code",
   "execution_count": 29,
   "metadata": {
    "scrolled": false
   },
   "outputs": [
    {
     "data": {
      "image/png": "[encoded data removed]",
      "text/plain": [
       "<Figure size 432x432 with 1 Axes>"
      ]
     },
     "metadata": {
      "needs_background": "light"
     },
     "output_type": "display_data"
    },
    {
     "data": {
      "image/png": "[encoded data removed]",
      "text/plain": [
       "<Figure size 432x288 with 1 Axes>"
      ]
     },
     "metadata": {
      "needs_background": "light"
     },
     "output_type": "display_data"
    },
    {
     "name": "stdout",
     "output_type": "stream",
     "text": [
      "[1.83765948 0.83765948 0.53419726 0.26935484 0.00842044]\n",
      "[0.         0.62965664 0.74707891 0.70428473 0.        ]\n"
     ]
    }
   ],
   "source": [
    "# Generate the coordinates for the ROC curve\n",
    "fpr, tpr, thresholds = metrics.roc_curve(Y, predProbY, pos_label = 'Commercial')\n",
    "\n",
    "# Add two dummy coordinates\n",
    "OneMinusSpecificity = np.append([0], fpr)\n",
    "Sensitivity = np.append([0], tpr)\n",
    "\n",
    "OneMinusSpecificity = np.append(OneMinusSpecificity, [1])\n",
    "Sensitivity = np.append(Sensitivity, [1])\n",
    "\n",
    "# Draw the ROC curve\n",
    "plt.figure(figsize=(6,6))\n",
    "plt.plot(OneMinusSpecificity, Sensitivity, marker = 'o',\n",
    "         color = 'blue', linestyle = 'solid', linewidth = 2, markersize = 6)\n",
    "plt.plot([0, 1], [0, 1], color = 'red', linestyle = ':')\n",
    "plt.grid(True)\n",
    "plt.xlabel(\"1 - Specificity (False Positive Rate)\")\n",
    "plt.ylabel(\"Sensitivity (True Positive Rate)\")\n",
    "plt.axis(\"equal\")\n",
    "plt.show()\n",
    "\n",
    "fpr, tpr, thresholds = metrics.roc_curve(Y, predProbY, pos_label = 'Commercial')\n",
    "\n",
    "cutoff = np.where(thresholds > 1.0, np.nan, thresholds)\n",
    "plt.plot(cutoff, tpr, marker = 'o', label = 'True Positive',\n",
    "         color = 'blue', linestyle = 'solid', linewidth = 2, markersize = 6)\n",
    "plt.plot(cutoff, fpr, marker = 'o', label = 'False Positive',\n",
    "         color = 'red', linestyle = 'solid', linewidth = 2, markersize = 6)\n",
    "plt.grid(True)\n",
    "plt.xlabel(\"Probability Threshold\")\n",
    "plt.ylabel(\"Positive Rate\")\n",
    "plt.legend(loc = 'upper right', shadow = True, fontsize = 'large')\n",
    "plt.show()\n",
    "\n",
    "print(thresholds)\n",
    "print(tpr-fpr)"
   ]
  },
  {
   "cell_type": "code",
   "execution_count": 33,
   "metadata": {
    "scrolled": false
   },
   "outputs": [
    {
     "name": "stdout",
     "output_type": "stream",
     "text": [
      "1372467 40896 129300\n"
     ]
    },
    {
     "data": {
      "text/plain": [
       "0.9421295166209954"
      ]
     },
     "execution_count": 33,
     "metadata": {},
     "output_type": "execute_result"
    }
   ],
   "source": [
    "goodmanKruskalsGamma(test)"
   ]
  },
  {
   "cell_type": "code",
   "execution_count": null,
   "metadata": {},
   "outputs": [],
   "source": []
  },
  {
   "cell_type": "code",
   "execution_count": null,
   "metadata": {},
   "outputs": [],
   "source": []
  }
 ],
 "metadata": {
  "kernelspec": {
   "display_name": "Python 3",
   "language": "python",
   "name": "python3"
  },
  "language_info": {
   "codemirror_mode": {
    "name": "ipython",
    "version": 3
   },
   "file_extension": ".py",
   "mimetype": "text/x-python",
   "name": "python",
   "nbconvert_exporter": "python",
   "pygments_lexer": "ipython3",
   "version": "3.7.4"
  }
 },
 "nbformat": 4,
 "nbformat_minor": 2
}
