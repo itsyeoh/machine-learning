{
 "cells": [
  {
   "cell_type": "code",
   "execution_count": 2,
   "metadata": {},
   "outputs": [],
   "source": [
    "import pandas as pd\n",
    "import numpy as np\n",
    "import sklearn.model_selection as model_selection\n",
    "import sklearn.cluster as cluster\n",
    "import sklearn.metrics as metrics\n",
    "from sklearn.preprocessing import OneHotEncoder\n",
    "import math "
   ]
  },
  {
   "cell_type": "code",
   "execution_count": 55,
   "metadata": {},
   "outputs": [],
   "source": [
    "history = pd.read_csv('claim_history.csv')"
   ]
  },
  {
   "cell_type": "code",
   "execution_count": 60,
   "metadata": {},
   "outputs": [],
   "source": [
    "history = history[['CAR_TYPE', 'OCCUPATION', 'EDUCATION', 'CAR_USE']].dropna()\n",
    "\n",
    "#One-hot encoding\n",
    "education_mapper = {'Doctors': 4 , 'Masters': 3, 'Bachelors': 2, 'High School': 1, 'Below High School': 0}\n",
    "history['MAPPED_EDUCATION'] = history['EDUCATION'].replace(education_mapper)\n",
    "\n",
    "X = history[['CAR_TYPE', 'OCCUPATION', 'EDUCATION', 'MAPPED_EDUCATION']]\n",
    "y = history['CAR_USE']"
   ]
  },
  {
   "cell_type": "markdown",
   "metadata": {},
   "source": [
    "## QUESTION 1"
   ]
  },
  {
   "cell_type": "code",
   "execution_count": 222,
   "metadata": {},
   "outputs": [],
   "source": [
    "X_train, X_test, y_train, y_test = model_selection.train_test_split(X, y, train_size=0.75, random_state=60616)\n",
    "\n",
    "train, test = model_selection.train_test_split(history, train_size=0.75, random_state=60616, stratify=history['CAR_USE'])"
   ]
  },
  {
   "cell_type": "code",
   "execution_count": 62,
   "metadata": {},
   "outputs": [
    {
     "name": "stdout",
     "output_type": "stream",
     "text": [
      "Private: 4875 0.6309862800931918\n",
      "Commerc: 2851 0.3690137199068082\n"
     ]
    }
   ],
   "source": [
    "# Q1A\n",
    "priv_train, comm_train = y_train.value_counts()\n",
    "\n",
    "# Train\n",
    "print( 'Private: {} {}'.format(priv_train, (priv_train/(priv_train+comm_train))) )\n",
    "print( 'Commerc: {} {}'.format(comm_train, (comm_train/(priv_train+comm_train))) )"
   ]
  },
  {
   "cell_type": "code",
   "execution_count": 63,
   "metadata": {},
   "outputs": [
    {
     "name": "stdout",
     "output_type": "stream",
     "text": [
      "Private: 1638 0.6358695652173914\n",
      "Commerc: 938 0.3641304347826087\n"
     ]
    }
   ],
   "source": [
    "# Q1B\n",
    "priv_test, comm_test = y_test.value_counts()\n",
    "\n",
    "# Test\n",
    "print( 'Private: {} {}'.format(priv_test, (priv_test/(priv_test+comm_test))) )\n",
    "print( 'Commerc: {} {}'.format(comm_test, (comm_test/(priv_test+comm_test))) )"
   ]
  },
  {
   "cell_type": "code",
   "execution_count": 64,
   "metadata": {},
   "outputs": [
    {
     "data": {
      "text/plain": [
       "0.7524894878726821"
      ]
     },
     "execution_count": 64,
     "metadata": {},
     "output_type": "execute_result"
    }
   ],
   "source": [
    "# Q1C\n",
    "p_comm_train = y_train.value_counts()['Commercial'] / len(y_train) # P(Commercial | train)\n",
    "p_comm_test = y_test.value_counts()['Commercial'] / len(y_test)    # P(Commercial | test)\n",
    "p_train_comm = (p_comm_train * 0.75)/(p_comm_train * 0.75 + p_comm_test * 0.25)\n",
    "\n",
    "p_train_comm"
   ]
  },
  {
   "cell_type": "code",
   "execution_count": 223,
   "metadata": {},
   "outputs": [
    {
     "name": "stdout",
     "output_type": "stream",
     "text": [
      "0.25144828484020054\n"
     ]
    }
   ],
   "source": [
    "# Q1D\n",
    "p_priv_train = y_train.value_counts()['Private'] / len(y_train) # P(Private | train)\n",
    "p_priv_test = y_test.value_counts()['Private'] / len(y_test)    # P(Private | test)\n",
    "p_test_priv = (p_priv_test * 0.25)/(p_priv_train * 0.75 + p_priv_test * 0.25)\n",
    "# p_test_priv\n",
    "print(p_test_priv)"
   ]
  },
  {
   "cell_type": "markdown",
   "metadata": {},
   "source": [
    "## QUESTION 2"
   ]
  },
  {
   "cell_type": "code",
   "execution_count": 226,
   "metadata": {},
   "outputs": [
    {
     "data": {
      "text/plain": [
       "0.9499117892797907"
      ]
     },
     "execution_count": 226,
     "metadata": {},
     "output_type": "execute_result"
    }
   ],
   "source": [
    "# 2A: Root Entropy\n",
    "prob_train_priv = y_train.value_counts()['Private'] / y_train.shape[0]\n",
    "prob_train_comm = y_train.value_counts()['Commercial'] / y_train.shape[0]\n",
    "\n",
    "root_entropy = -(prob_train_priv * np.log2(prob_train_priv) + prob_train_comm * np.log2(prob_train_comm))\n",
    "root_entropy"
   ]
  },
  {
   "cell_type": "code",
   "execution_count": 30,
   "metadata": {},
   "outputs": [
    {
     "name": "stdout",
     "output_type": "stream",
     "text": [
      "CAR_USE      Commercial  Private   All\n",
      "CAR_TYPE                              \n",
      "Minivan             422     1606  2028\n",
      "Panel Truck         638        0   638\n",
      "Pickup              792      512  1304\n",
      "SUV                 419     1742  2161\n",
      "Sports Car          146      737   883\n",
      "Van                 434      278   712\n",
      "All                2851     4875  7726\n",
      "\n",
      "\n",
      "CAR_USE       Commercial  Private   All\n",
      "OCCUPATION                             \n",
      "Blue Collar         1309      413  1722\n",
      "Clerical             220      962  1182\n",
      "Doctor                 0      233   233\n",
      "Home Maker            38      579   617\n",
      "Lawyer                 0      777   777\n",
      "Manager              227      708   935\n",
      "Professional         273      800  1073\n",
      "Student              338      350   688\n",
      "Unknown              446       53   499\n",
      "All                 2851     4875  7726\n",
      "\n",
      "\n",
      "CAR_USE            Commercial  Private   All\n",
      "EDUCATION                                   \n",
      "Bachelors                 895     1231  2126\n",
      "Below High School         257      881  1138\n",
      "Doctors                   226      471   697\n",
      "High School              1074     1139  2213\n",
      "Masters                   399     1153  1552\n",
      "All                      2851     4875  7726\n"
     ]
    }
   ],
   "source": [
    "# 2B: Split Criterion\n",
    "# CAR_USE ... 9 branches\n",
    "\n",
    "crossTab1 = pd.crosstab(index = X_train['CAR_TYPE'], columns = y_train, margins = True, dropna = True)   \n",
    "print(crossTab1)\n",
    "print('\\n')\n",
    "\n",
    "crossTab2 = pd.crosstab(index = X_train['OCCUPATION'], columns = y_train, margins = True, dropna = True)   \n",
    "print(crossTab2)\n",
    "print('\\n')\n",
    "\n",
    "crossTab3 = pd.crosstab(index = X_train['EDUCATION'], columns = y_train, margins = True, dropna = True)   \n",
    "print(crossTab3)"
   ]
  },
  {
   "cell_type": "code",
   "execution_count": 111,
   "metadata": {},
   "outputs": [],
   "source": [
    "def EntropyIntervalSplit(inData, split):\n",
    "    dataTable = inData\n",
    "    dataTable['LE_Split'] = (dataTable.iloc[:,0] <= split)\n",
    "\n",
    "    crossTable = pd.crosstab(index = dataTable['LE_Split'], columns = dataTable.iloc[:,1], margins = True, dropna = True)   \n",
    "    nRows = crossTable.shape[0]\n",
    "    nColumns = crossTable.shape[1]\n",
    "\n",
    "    tableEntropy = 0\n",
    "    for iRow in range(nRows-1):\n",
    "      rowEntropy = 0\n",
    "      for iColumn in range(nColumns):\n",
    "         proportion = crossTable.iloc[iRow,iColumn] / crossTable.iloc[iRow,(nColumns-1)]\n",
    "         if (proportion > 0):\n",
    "            rowEntropy -= proportion * np.log2(proportion)\n",
    "      tableEntropy += rowEntropy *  crossTable.iloc[iRow,(nColumns-1)]\n",
    "    tableEntropy = tableEntropy /  crossTable.iloc[(nRows-1),(nColumns-1)]\n",
    "\n",
    "    return(tableEntropy)\n",
    "\n",
    "def EntropyNominalSplit(inData, split):\n",
    "    dataTable = inData\n",
    "    dataTable['LE_Split'] = list(map(lambda x: True if x in split else False, dataTable.iloc[:,0]))\n",
    "\n",
    "    crossTable = pd.crosstab(index = dataTable['LE_Split'], columns = dataTable.iloc[:,1], margins = True, dropna = True)   \n",
    "    nRows = crossTable.shape[0]\n",
    "    nColumns = crossTable.shape[1]\n",
    "\n",
    "    tableEntropy = 0\n",
    "    for iRow in range(nRows-1):\n",
    "      rowEntropy = 0\n",
    "      for iColumn in range(nColumns):\n",
    "         proportion = crossTable.iloc[iRow,iColumn] / crossTable.iloc[iRow,(nColumns-1)]\n",
    "         if (proportion > 0):\n",
    "            rowEntropy -= proportion * np.log2(proportion)\n",
    "      tableEntropy += rowEntropy *  crossTable.iloc[iRow,(nColumns-1)]\n",
    "    tableEntropy = tableEntropy /  crossTable.iloc[(nRows-1),(nColumns-1)]\n",
    "\n",
    "    return(tableEntropy)"
   ]
  },
  {
   "cell_type": "code",
   "execution_count": 123,
   "metadata": {
    "scrolled": true
   },
   "outputs": [],
   "source": [
    "from itertools import combinations \n",
    "\n",
    "def getOptimalNominalSplit(inData, splits):\n",
    "    minEntropy = 1.0\n",
    "    minCombination = []\n",
    "    length = len(splits) + 1\n",
    "    \n",
    "    for i in range(1, length):\n",
    "        for comb in list(combinations(splits, i)):\n",
    "            currCombination = list(comb)\n",
    "            currEntropy = EntropyNominalSplit(inData, currCombination)\n",
    "\n",
    "            if currEntropy < minEntropy:\n",
    "                minEntropy = currEntropy\n",
    "                minCombination = currCombination\n",
    "    \n",
    "    return (minEntropy, minCombination, list(set(splits)-set(minCombination)))\n",
    "\n",
    "def getOptimalIntervalSplit(inData, splits):\n",
    "    minEntropy = 1.0\n",
    "    minSplit = -1.0\n",
    "    length = len(splits)\n",
    "    \n",
    "    for i in range(length):\n",
    "        currEntropy = EntropyIntervalSplit(inData, splits[i])\n",
    "        \n",
    "        if currEntropy < minEntropy:\n",
    "            minEntropy = currEntropy\n",
    "            minSplit = splits[i]\n",
    "    \n",
    "    return (minEntropy, minSplit) \n"
   ]
  },
  {
   "cell_type": "code",
   "execution_count": 155,
   "metadata": {},
   "outputs": [
    {
     "name": "stdout",
     "output_type": "stream",
     "text": [
      "(0.7685043713026927, ['Minivan', 'SUV', 'Sports Car'], ['Panel Truck', 'Van', 'Pickup'])\n",
      "(0.7138723890228704, ['Blue Collar', 'Student', 'Unknown'], ['Home Maker', 'Lawyer', 'Doctor', 'Professional', 'Clerical', 'Manager'])\n",
      "(0.9382318787108813, 0.5)\n"
     ]
    }
   ],
   "source": [
    "occupations = ['Blue Collar', 'Clerical', 'Doctor', 'Home Maker', 'Lawyer', 'Manager', 'Professional',\n",
    "              'Student', 'Unknown']\n",
    "car_types = ['Minivan', 'Panel Truck', 'Pickup', 'SUV', 'Sports Car', 'Van']\n",
    "mapped_education_splits = [0.5, 1.5, 2.5, 3.5, 4.5]\n",
    "\n",
    "occupation_data = pd.concat([X_train['OCCUPATION'], y_train], axis=1) \n",
    "carType_data = pd.concat([X_train['CAR_TYPE'], y_train], axis=1)\n",
    "education_data = pd.concat([X_train['MAPPED_EDUCATION'], y_train], axis=1)\n",
    "\n",
    "print( getOptimalNominalSplit(carType_data, car_types) )\n",
    "print( getOptimalNominalSplit(occupation_data, occupations) )\n",
    "print( getOptimalIntervalSplit(education_data, mapped_education_splits) )"
   ]
  },
  {
   "cell_type": "code",
   "execution_count": 167,
   "metadata": {},
   "outputs": [
    {
     "name": "stdout",
     "output_type": "stream",
     "text": [
      "(0.8023025606364643, ['Student'], ['Blue Collar', 'Unknown'])\n",
      "(0.7696653845258998, ['Minivan', 'SUV', 'Sports Car'], ['Panel Truck', 'Van', 'Pickup'])\n",
      "(0.6736439321725546, 0.5)\n",
      "\n",
      "\n",
      "(0.5642252500375471, ['Home Maker', 'Lawyer', 'Doctor'], ['Clerical', 'Professional', 'Manager'])\n",
      "(0.32808686969710504, ['Minivan', 'SUV', 'Sports Car'], ['Panel Truck', 'Van', 'Pickup'])\n",
      "(0.6178221369120133, 2.5)\n"
     ]
    }
   ],
   "source": [
    "occupations_left = ['Blue Collar', 'Student', 'Unknown']\n",
    "occupations_right = ['Home Maker', 'Lawyer', 'Doctor', 'Professional', 'Clerical', 'Manager']\n",
    "\n",
    "left_data = X_train[X_train['OCCUPATION'].isin(occupations_left)]\n",
    "right_data = X_train[~X_train['OCCUPATION'].isin(occupations_left)]\n",
    "\n",
    "# LEFT BRANCH\n",
    "print( getOptimalNominalSplit(pd.concat([left_data['OCCUPATION'], y_train], axis=1).dropna(), occupations_left) )\n",
    "print( getOptimalNominalSplit(pd.concat([left_data['CAR_TYPE'], y_train], axis=1).dropna(), car_types) )\n",
    "print( getOptimalIntervalSplit(pd.concat([left_data['MAPPED_EDUCATION'], y_train], axis=1).dropna(), mapped_education_splits) )\n",
    "print('\\n')\n",
    "# RIGHT BRANCH\n",
    "print( getOptimalNominalSplit(pd.concat([right_data['OCCUPATION'], y_train], axis=1).dropna(), occupations_right) )\n",
    "print( getOptimalNominalSplit(pd.concat([right_data['CAR_TYPE'], y_train], axis=1).dropna(), car_types) )\n",
    "print( getOptimalIntervalSplit(pd.concat([right_data['MAPPED_EDUCATION'], y_train], axis=1).dropna(), mapped_education_splits) )"
   ]
  },
  {
   "cell_type": "code",
   "execution_count": 218,
   "metadata": {},
   "outputs": [
    {
     "name": "stdout",
     "output_type": "stream",
     "text": [
      "Private Count: 460\n",
      "Commercial Count: 173\n",
      "Total Count: 633\n",
      "Entropy: 0.8461626265285531\n",
      "\n",
      "Private Count: 356\n",
      "Commercial Count: 1920\n",
      "Total Count: 2276\n",
      "Entropy: 0.6256631177932281\n",
      "\n",
      "Private Count: 3409\n",
      "Commercial Count: 23\n",
      "Total Count: 3432\n",
      "Entropy: 0.05803024570980552\n",
      "\n",
      "Private Count: 650\n",
      "Commercial Count: 735\n",
      "Total Count: 1385\n",
      "Entropy: 0.9972813343356697\n",
      "\n"
     ]
    }
   ],
   "source": [
    "def printCounts(data):\n",
    "    frequency_table = pd.value_counts(data['CAR_USE'])\n",
    "    num_p = frequency_table['Private']\n",
    "    num_c = frequency_table['Commercial']\n",
    "    nums = num_p + num_c\n",
    "    entropy = -(num_p/nums * np.log2(num_p/nums) + num_c/nums * np.log2(num_c/nums))\n",
    "    print('Private Count: {}\\nCommercial Count: {}\\nTotal Count: {}\\nEntropy: {}\\n'.format(num_p, num_c, nums, entropy))\n",
    "#     -(prob_train_priv * np.log2(prob_train_priv) + prob_train_comm * np.log2(prob_train_comm))\n",
    "    \n",
    "\n",
    "carTypes_left = ['Minivan', 'SUV', 'Sports Car']\n",
    "carTypes_right = ['Panel Truck', 'Van', 'Pickup']\n",
    "\n",
    "left_left_data = pd.concat([left_data[left_data['MAPPED_EDUCATION'] <= 0.5], y_train], axis=1).dropna()\n",
    "left_right_data = pd.concat([left_data[left_data['MAPPED_EDUCATION'] > 0.5], y_train], axis=1).dropna()\n",
    "\n",
    "rl_data = right_data[right_data['CAR_TYPE'].isin(carTypes_left)]\n",
    "rr_data = right_data[right_data['CAR_TYPE'].isin(carTypes_right)]\n",
    "\n",
    "right_left_data = pd.concat([rl_data, y_train], axis=1).dropna()\n",
    "right_right_data = pd.concat([rr_data, y_train], axis=1).dropna()\n",
    "\n",
    "\n",
    "printCounts(left_left_data)\n",
    "printCounts(left_right_data)\n",
    "printCounts(right_left_data)\n",
    "printCounts(right_right_data)"
   ]
  },
  {
   "cell_type": "code",
   "execution_count": 219,
   "metadata": {},
   "outputs": [
    {
     "data": {
      "text/html": [
       "<div>\n",
       "<style scoped>\n",
       "    .dataframe tbody tr th:only-of-type {\n",
       "        vertical-align: middle;\n",
       "    }\n",
       "\n",
       "    .dataframe tbody tr th {\n",
       "        vertical-align: top;\n",
       "    }\n",
       "\n",
       "    .dataframe thead th {\n",
       "        text-align: right;\n",
       "    }\n",
       "</style>\n",
       "<table border=\"1\" class=\"dataframe\">\n",
       "  <thead>\n",
       "    <tr style=\"text-align: right;\">\n",
       "      <th></th>\n",
       "      <th>CAR_TYPE</th>\n",
       "      <th>OCCUPATION</th>\n",
       "      <th>EDUCATION</th>\n",
       "      <th>MAPPED_EDUCATION</th>\n",
       "    </tr>\n",
       "  </thead>\n",
       "  <tbody>\n",
       "    <tr>\n",
       "      <td>5793</td>\n",
       "      <td>Pickup</td>\n",
       "      <td>Professional</td>\n",
       "      <td>Masters</td>\n",
       "      <td>3</td>\n",
       "    </tr>\n",
       "    <tr>\n",
       "      <td>1925</td>\n",
       "      <td>Pickup</td>\n",
       "      <td>Professional</td>\n",
       "      <td>High School</td>\n",
       "      <td>1</td>\n",
       "    </tr>\n",
       "    <tr>\n",
       "      <td>6797</td>\n",
       "      <td>Van</td>\n",
       "      <td>Clerical</td>\n",
       "      <td>High School</td>\n",
       "      <td>1</td>\n",
       "    </tr>\n",
       "    <tr>\n",
       "      <td>7092</td>\n",
       "      <td>Pickup</td>\n",
       "      <td>Home Maker</td>\n",
       "      <td>Doctors</td>\n",
       "      <td>4</td>\n",
       "    </tr>\n",
       "    <tr>\n",
       "      <td>4846</td>\n",
       "      <td>Panel Truck</td>\n",
       "      <td>Manager</td>\n",
       "      <td>Bachelors</td>\n",
       "      <td>2</td>\n",
       "    </tr>\n",
       "    <tr>\n",
       "      <td>...</td>\n",
       "      <td>...</td>\n",
       "      <td>...</td>\n",
       "      <td>...</td>\n",
       "      <td>...</td>\n",
       "    </tr>\n",
       "    <tr>\n",
       "      <td>7023</td>\n",
       "      <td>Panel Truck</td>\n",
       "      <td>Manager</td>\n",
       "      <td>Bachelors</td>\n",
       "      <td>2</td>\n",
       "    </tr>\n",
       "    <tr>\n",
       "      <td>9379</td>\n",
       "      <td>Pickup</td>\n",
       "      <td>Manager</td>\n",
       "      <td>Doctors</td>\n",
       "      <td>4</td>\n",
       "    </tr>\n",
       "    <tr>\n",
       "      <td>4814</td>\n",
       "      <td>Pickup</td>\n",
       "      <td>Professional</td>\n",
       "      <td>Bachelors</td>\n",
       "      <td>2</td>\n",
       "    </tr>\n",
       "    <tr>\n",
       "      <td>1019</td>\n",
       "      <td>Panel Truck</td>\n",
       "      <td>Manager</td>\n",
       "      <td>Doctors</td>\n",
       "      <td>4</td>\n",
       "    </tr>\n",
       "    <tr>\n",
       "      <td>9730</td>\n",
       "      <td>Van</td>\n",
       "      <td>Professional</td>\n",
       "      <td>Bachelors</td>\n",
       "      <td>2</td>\n",
       "    </tr>\n",
       "  </tbody>\n",
       "</table>\n",
       "<p>1385 rows × 4 columns</p>\n",
       "</div>"
      ],
      "text/plain": [
       "         CAR_TYPE    OCCUPATION    EDUCATION  MAPPED_EDUCATION\n",
       "5793       Pickup  Professional      Masters                 3\n",
       "1925       Pickup  Professional  High School                 1\n",
       "6797          Van      Clerical  High School                 1\n",
       "7092       Pickup    Home Maker      Doctors                 4\n",
       "4846  Panel Truck       Manager    Bachelors                 2\n",
       "...           ...           ...          ...               ...\n",
       "7023  Panel Truck       Manager    Bachelors                 2\n",
       "9379       Pickup       Manager      Doctors                 4\n",
       "4814       Pickup  Professional    Bachelors                 2\n",
       "1019  Panel Truck       Manager      Doctors                 4\n",
       "9730          Van  Professional    Bachelors                 2\n",
       "\n",
       "[1385 rows x 4 columns]"
      ]
     },
     "execution_count": 219,
     "metadata": {},
     "output_type": "execute_result"
    }
   ],
   "source": [
    "rr_data"
   ]
  },
  {
   "cell_type": "code",
   "execution_count": null,
   "metadata": {},
   "outputs": [],
   "source": []
  }
 ],
 "metadata": {
  "kernelspec": {
   "display_name": "Python 3",
   "language": "python",
   "name": "python3"
  },
  "language_info": {
   "codemirror_mode": {
    "name": "ipython",
    "version": 3
   },
   "file_extension": ".py",
   "mimetype": "text/x-python",
   "name": "python",
   "nbconvert_exporter": "python",
   "pygments_lexer": "ipython3",
   "version": "3.7.4"
  }
 },
 "nbformat": 4,
 "nbformat_minor": 2
}
